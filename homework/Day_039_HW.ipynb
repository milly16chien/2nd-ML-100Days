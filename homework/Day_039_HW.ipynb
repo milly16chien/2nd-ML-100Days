{
 "cells": [
  {
   "cell_type": "markdown",
   "metadata": {},
   "source": [
    "## [作業重點]\n",
    "清楚了解 L1, L2 的意義與差異為何，並了解 LASSO 與 Ridge 之間的差異與使用情境"
   ]
  },
  {
   "cell_type": "markdown",
   "metadata": {},
   "source": [
    "## 作業"
   ]
  },
  {
   "cell_type": "markdown",
   "metadata": {},
   "source": [
    "請閱讀相關文獻，並回答下列問題\n",
    "\n",
    "[脊回歸 (Ridge Regression)](https://blog.csdn.net/daunxx/article/details/51578787)\n",
    "[Linear, Ridge, Lasso Regression 本質區別](https://www.zhihu.com/question/38121173)\n",
    "\n",
    "1. LASSO 回歸可以被用來作為 Feature selection 的工具，請了解 LASSO 模型為什麼可用來作 Feature selection\n",
    "2. 當自變數 (X) 存在高度共線性時，Ridge Regression 可以處理這樣的問題嗎?\n"
   ]
  },
  {
   "cell_type": "markdown",
   "metadata": {},
   "source": [
    "1. Lasso 的 L1 penalty 對OLS係數的絕對值進行懲罰，將目標函數的解限制在以x和y軸為頂點的菱形上(以二維來看)，能夠將某些特徵的係數shrink到0,達到篩選特徵的結果。\n",
    "2. 可以。當模型的自變數有高度共線性，最小平方法求得的係數 w 將會變得很大(why?)，於是自變數有小幅變動時，對應變數的影響也會變得很大，模型的解釋力會失準。若能夠限制 w 的增長，也就是在原本模型上加上對係數 w 的 L2 penalty，就能夠降低模型的敏感度。<br><br>\n",
    "從線性回歸的公式來看，當 X 存在高度共線性，w = (X^TX)^-1 * X^Ty 中的inverse會無求，而根據推導求得 ridge regression 的參數解為 w = (X^TX + alpha*I)^-1 * X^Ty，此時的inverse就變得可解。"
   ]
  }
 ],
 "metadata": {
  "kernelspec": {
   "display_name": "Python 3",
   "language": "python",
   "name": "python3"
  },
  "language_info": {
   "codemirror_mode": {
    "name": "ipython",
    "version": 3
   },
   "file_extension": ".py",
   "mimetype": "text/x-python",
   "name": "python",
   "nbconvert_exporter": "python",
   "pygments_lexer": "ipython3",
   "version": "3.6.0"
  }
 },
 "nbformat": 4,
 "nbformat_minor": 2
}
