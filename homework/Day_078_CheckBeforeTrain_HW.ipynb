{
 "cells": [
  {
   "cell_type": "markdown",
   "metadata": {},
   "source": [
    "## Work\n",
    "1. 請嘗試將 preproc_x 替換成以每筆資料的 min/max 進行標準化至 -1 ~ 1 間，再進行訓練\n",
    "2. 請嘗試將 mlp 疊更深 (e.g 5~10 層)，進行訓練後觀察 learning curve 的走勢\n",
    "3. (optional) 請改用 GPU 進行訓練 (如果你有 GPU 的話)，比較使用 CPU 與 GPU 的訓練速度"
   ]
  },
  {
   "cell_type": "code",
   "execution_count": 1,
   "metadata": {
    "scrolled": true
   },
   "outputs": [
    {
     "name": "stdout",
     "output_type": "stream",
     "text": [
      "/bin/sh: 1: nvidia-smi: not found\r\n"
     ]
    }
   ],
   "source": [
    "## 確認硬體資源，可以看到目前可使用的GPU資源\n",
    "## 若是在 Windows, 請參考 https://blog.csdn.net/idwtwt/article/details/78017565)\n",
    "!nvidia-smi"
   ]
  },
  {
   "cell_type": "code",
   "execution_count": 2,
   "metadata": {},
   "outputs": [
    {
     "name": "stderr",
     "output_type": "stream",
     "text": [
      "Using TensorFlow backend.\n"
     ]
    }
   ],
   "source": [
    "import os\n",
    "import keras\n",
    "\n",
    "# 請嘗試設定 GPU：os.environ\n",
    "os.environ[\"CUDA_VISIBLE_DEVICES\"] = \"\"\n"
   ]
  },
  {
   "cell_type": "code",
   "execution_count": 3,
   "metadata": {
    "collapsed": true
   },
   "outputs": [],
   "source": [
    "train, test = keras.datasets.cifar10.load_data()"
   ]
  },
  {
   "cell_type": "code",
   "execution_count": 4,
   "metadata": {
    "collapsed": true
   },
   "outputs": [],
   "source": [
    "## 資料前處理\n",
    "def preproc_x(x, flatten=True):\n",
    "    x = x / 255.\n",
    "    if flatten:\n",
    "        x = x.reshape((len(x), -1))\n",
    "    return x\n",
    "\n",
    "def preproc_y(y, num_classes=10):\n",
    "    if y.shape[-1] == 1:\n",
    "        y = keras.utils.to_categorical(y, num_classes)\n",
    "    return y  "
   ]
  },
  {
   "cell_type": "code",
   "execution_count": 5,
   "metadata": {
    "collapsed": true
   },
   "outputs": [],
   "source": [
    "x_train, y_train = train\n",
    "x_test, y_test = test\n",
    "\n",
    "# Preproc the inputs\n",
    "x_train = preproc_x(x_train)\n",
    "x_test = preproc_x(x_test)\n",
    "\n",
    "# Preprc the outputs\n",
    "y_train = preproc_y(y_train)\n",
    "y_test = preproc_y(y_test)"
   ]
  },
  {
   "cell_type": "code",
   "execution_count": 7,
   "metadata": {},
   "outputs": [
    {
     "name": "stdout",
     "output_type": "stream",
     "text": [
      "_________________________________________________________________\n",
      "Layer (type)                 Output Shape              Param #   \n",
      "=================================================================\n",
      "input_1 (InputLayer)         (None, 3072)              0         \n",
      "_________________________________________________________________\n",
      "hidden_layer1 (Dense)        (None, 512)               1573376   \n",
      "_________________________________________________________________\n",
      "hidden_layer2 (Dense)        (None, 256)               131328    \n",
      "_________________________________________________________________\n",
      "hidden_layer3 (Dense)        (None, 128)               32896     \n",
      "_________________________________________________________________\n",
      "output (Dense)               (None, 10)                1290      \n",
      "=================================================================\n",
      "Total params: 1,738,890\n",
      "Trainable params: 1,738,890\n",
      "Non-trainable params: 0\n",
      "_________________________________________________________________\n"
     ]
    }
   ],
   "source": [
    "## 建立你的神經網路\n",
    "\n",
    "def build_mlp(input_shape, output_units=10, num_neurons=[512, 256, 128]):\n",
    "    input_layer = keras.layers.Input(input_shape)\n",
    "    \n",
    "    for i, n_units in enumerate(num_neurons):\n",
    "        if i == 0:\n",
    "            x = keras.layers.Dense(units=n_units, activation=\"relu\", name=\"hidden_layer\"+str(i+1))(input_layer)\n",
    "        else:\n",
    "            x = keras.layers.Dense(units=n_units, activation=\"relu\", name=\"hidden_layer\"+str(i+1))(x)\n",
    "    \n",
    "    out = keras.layers.Dense(units=output_units, activation=\"softmax\", name=\"output\")(x)\n",
    "    \n",
    "    model = keras.models.Model(inputs=[input_layer], outputs=[out])\n",
    "    return model\n",
    "\n",
    "model = build_mlp(input_shape=x_train.shape[1:])\n",
    "model.summary()"
   ]
  },
  {
   "cell_type": "code",
   "execution_count": 8,
   "metadata": {
    "collapsed": true
   },
   "outputs": [],
   "source": [
    "## 超參數設定\n",
    "LEARNING_RATE = 0.001\n",
    "EPOCHS = 40\n",
    "BATCH_SIZE = 256"
   ]
  },
  {
   "cell_type": "code",
   "execution_count": 9,
   "metadata": {
    "collapsed": true
   },
   "outputs": [],
   "source": [
    "optimizer = keras.optimizers.Adam(lr=LEARNING_RATE)\n",
    "model.compile(loss=\"categorical_crossentropy\", metrics=[\"accuracy\"], optimizer=optimizer)"
   ]
  },
  {
   "cell_type": "code",
   "execution_count": 10,
   "metadata": {},
   "outputs": [
    {
     "name": "stdout",
     "output_type": "stream",
     "text": [
      "Train on 50000 samples, validate on 10000 samples\n",
      "Epoch 1/40\n",
      "50000/50000 [==============================] - 10s 197us/step - loss: 1.9338 - acc: 0.3015 - val_loss: 1.7435 - val_acc: 0.3742\n",
      "Epoch 2/40\n",
      "50000/50000 [==============================] - 9s 184us/step - loss: 1.6930 - acc: 0.3953 - val_loss: 1.6428 - val_acc: 0.4130\n",
      "Epoch 3/40\n",
      "50000/50000 [==============================] - 9s 185us/step - loss: 1.6126 - acc: 0.4245 - val_loss: 1.5691 - val_acc: 0.4387\n",
      "Epoch 4/40\n",
      "50000/50000 [==============================] - 9s 189us/step - loss: 1.5499 - acc: 0.4466 - val_loss: 1.5156 - val_acc: 0.4614\n",
      "Epoch 5/40\n",
      "50000/50000 [==============================] - 9s 185us/step - loss: 1.5008 - acc: 0.4642 - val_loss: 1.5787 - val_acc: 0.4393\n",
      "Epoch 6/40\n",
      "50000/50000 [==============================] - 9s 185us/step - loss: 1.4658 - acc: 0.4766 - val_loss: 1.4794 - val_acc: 0.4691\n",
      "Epoch 7/40\n",
      "50000/50000 [==============================] - 9s 185us/step - loss: 1.4342 - acc: 0.4884 - val_loss: 1.5032 - val_acc: 0.4690\n",
      "Epoch 8/40\n",
      "50000/50000 [==============================] - 9s 185us/step - loss: 1.4027 - acc: 0.5016 - val_loss: 1.4322 - val_acc: 0.4977\n",
      "Epoch 9/40\n",
      "50000/50000 [==============================] - 9s 185us/step - loss: 1.3732 - acc: 0.5118 - val_loss: 1.3898 - val_acc: 0.5077\n",
      "Epoch 10/40\n",
      "50000/50000 [==============================] - 9s 185us/step - loss: 1.3464 - acc: 0.5197 - val_loss: 1.4119 - val_acc: 0.5006\n",
      "Epoch 11/40\n",
      "50000/50000 [==============================] - 9s 185us/step - loss: 1.3248 - acc: 0.5299 - val_loss: 1.4114 - val_acc: 0.5045\n",
      "Epoch 12/40\n",
      "50000/50000 [==============================] - 9s 185us/step - loss: 1.2985 - acc: 0.5388 - val_loss: 1.3793 - val_acc: 0.5121\n",
      "Epoch 13/40\n",
      "50000/50000 [==============================] - 9s 185us/step - loss: 1.2708 - acc: 0.5483 - val_loss: 1.3941 - val_acc: 0.5060\n",
      "Epoch 14/40\n",
      "50000/50000 [==============================] - 9s 185us/step - loss: 1.2488 - acc: 0.5543 - val_loss: 1.4225 - val_acc: 0.5010\n",
      "Epoch 15/40\n",
      "50000/50000 [==============================] - 9s 185us/step - loss: 1.2354 - acc: 0.5626 - val_loss: 1.3753 - val_acc: 0.5200\n",
      "Epoch 16/40\n",
      "50000/50000 [==============================] - 9s 185us/step - loss: 1.2059 - acc: 0.5702 - val_loss: 1.4230 - val_acc: 0.4986\n",
      "Epoch 17/40\n",
      "50000/50000 [==============================] - 9s 188us/step - loss: 1.1867 - acc: 0.5769 - val_loss: 1.3830 - val_acc: 0.5124\n",
      "Epoch 18/40\n",
      "50000/50000 [==============================] - 9s 189us/step - loss: 1.1656 - acc: 0.5865 - val_loss: 1.3538 - val_acc: 0.5257\n",
      "Epoch 19/40\n",
      "50000/50000 [==============================] - 9s 185us/step - loss: 1.1381 - acc: 0.5942 - val_loss: 1.3480 - val_acc: 0.5275\n",
      "Epoch 20/40\n",
      "50000/50000 [==============================] - 9s 185us/step - loss: 1.1308 - acc: 0.5967 - val_loss: 1.4003 - val_acc: 0.5163\n",
      "Epoch 21/40\n",
      "50000/50000 [==============================] - 9s 184us/step - loss: 1.0968 - acc: 0.6067 - val_loss: 1.3975 - val_acc: 0.5175\n",
      "Epoch 22/40\n",
      "50000/50000 [==============================] - 9s 185us/step - loss: 1.0793 - acc: 0.6163 - val_loss: 1.3544 - val_acc: 0.5285\n",
      "Epoch 23/40\n",
      "50000/50000 [==============================] - 9s 185us/step - loss: 1.0638 - acc: 0.6182 - val_loss: 1.3980 - val_acc: 0.5235\n",
      "Epoch 24/40\n",
      "50000/50000 [==============================] - 9s 185us/step - loss: 1.0433 - acc: 0.6281 - val_loss: 1.3817 - val_acc: 0.5264\n",
      "Epoch 25/40\n",
      "50000/50000 [==============================] - 9s 185us/step - loss: 1.0269 - acc: 0.6341 - val_loss: 1.3801 - val_acc: 0.5327\n",
      "Epoch 26/40\n",
      "50000/50000 [==============================] - 9s 185us/step - loss: 1.0139 - acc: 0.6375 - val_loss: 1.4639 - val_acc: 0.5085\n",
      "Epoch 27/40\n",
      "50000/50000 [==============================] - 9s 185us/step - loss: 0.9832 - acc: 0.6489 - val_loss: 1.3964 - val_acc: 0.5291\n",
      "Epoch 28/40\n",
      "50000/50000 [==============================] - 9s 185us/step - loss: 0.9718 - acc: 0.6537 - val_loss: 1.4218 - val_acc: 0.5272\n",
      "Epoch 29/40\n",
      "50000/50000 [==============================] - 9s 186us/step - loss: 0.9477 - acc: 0.6600 - val_loss: 1.4270 - val_acc: 0.5231\n",
      "Epoch 30/40\n",
      "50000/50000 [==============================] - 9s 185us/step - loss: 0.9422 - acc: 0.6638 - val_loss: 1.4416 - val_acc: 0.5272\n",
      "Epoch 31/40\n",
      "50000/50000 [==============================] - 9s 186us/step - loss: 0.9133 - acc: 0.6728 - val_loss: 1.4955 - val_acc: 0.5195\n",
      "Epoch 32/40\n",
      "50000/50000 [==============================] - 9s 186us/step - loss: 0.8925 - acc: 0.6788 - val_loss: 1.4530 - val_acc: 0.5275\n",
      "Epoch 33/40\n",
      "50000/50000 [==============================] - 9s 185us/step - loss: 0.8772 - acc: 0.6861 - val_loss: 1.5325 - val_acc: 0.5110\n",
      "Epoch 34/40\n",
      "50000/50000 [==============================] - 9s 186us/step - loss: 0.8603 - acc: 0.6933 - val_loss: 1.5296 - val_acc: 0.5212\n",
      "Epoch 35/40\n",
      "50000/50000 [==============================] - 9s 186us/step - loss: 0.8557 - acc: 0.6933 - val_loss: 1.5327 - val_acc: 0.5195\n",
      "Epoch 36/40\n",
      "50000/50000 [==============================] - 9s 186us/step - loss: 0.8407 - acc: 0.6981 - val_loss: 1.5088 - val_acc: 0.5237\n",
      "Epoch 37/40\n",
      "50000/50000 [==============================] - 9s 189us/step - loss: 0.8091 - acc: 0.7089 - val_loss: 1.5739 - val_acc: 0.5121\n",
      "Epoch 38/40\n",
      "50000/50000 [==============================] - 9s 185us/step - loss: 0.8016 - acc: 0.7125 - val_loss: 1.5582 - val_acc: 0.5217\n",
      "Epoch 39/40\n",
      "50000/50000 [==============================] - 9s 185us/step - loss: 0.7831 - acc: 0.7222 - val_loss: 1.5841 - val_acc: 0.5176\n",
      "Epoch 40/40\n",
      "50000/50000 [==============================] - 9s 185us/step - loss: 0.7583 - acc: 0.7298 - val_loss: 1.5780 - val_acc: 0.5228\n"
     ]
    },
    {
     "data": {
      "text/plain": [
       "<keras.callbacks.History at 0x7f67833b6cc0>"
      ]
     },
     "execution_count": 10,
     "metadata": {},
     "output_type": "execute_result"
    }
   ],
   "source": [
    "model.fit(x_train, y_train, \n",
    "          epochs=EPOCHS, \n",
    "          batch_size=BATCH_SIZE, \n",
    "          validation_data=(x_test, y_test), \n",
    "          shuffle=True)"
   ]
  },
  {
   "cell_type": "code",
   "execution_count": 11,
   "metadata": {},
   "outputs": [
    {
     "data": {
      "image/png": "[encoded data removed]",
      "text/plain": [
       "<matplotlib.figure.Figure at 0x7f67801f3fd0>"
      ]
     },
     "metadata": {},
     "output_type": "display_data"
    },
    {
     "data": {
      "image/png": "[encoded data removed]",
      "text/plain": [
       "<matplotlib.figure.Figure at 0x7f67759c4be0>"
      ]
     },
     "metadata": {},
     "output_type": "display_data"
    }
   ],
   "source": [
    "import matplotlib.pyplot as plt\n",
    "\n",
    "\n",
    "train_loss = model.history.history[\"loss\"]\n",
    "valid_loss = model.history.history[\"val_loss\"]\n",
    "\n",
    "train_acc = model.history.history[\"acc\"]\n",
    "valid_acc = model.history.history[\"val_acc\"]\n",
    "\n",
    "plt.plot(range(len(train_loss)), train_loss, label=\"train loss\")\n",
    "plt.plot(range(len(valid_loss)), valid_loss, label=\"valid loss\")\n",
    "plt.legend()\n",
    "plt.title(\"Loss\")\n",
    "plt.show()\n",
    "\n",
    "plt.plot(range(len(train_acc)), train_acc, label=\"train accuracy\")\n",
    "plt.plot(range(len(valid_acc)), valid_acc, label=\"valid accuracy\")\n",
    "plt.legend()\n",
    "plt.title(\"Accuracy\")\n",
    "plt.show()"
   ]
  },
  {
   "cell_type": "markdown",
   "metadata": {},
   "source": [
    "1. 將 preproc_x 替換成以每筆資料的 min/max 進行標準化至 -1 ~ 1 間，再進行訓練\n",
    "2. 嘗試將 mlp 疊更深 (e.g 5~10 層)，進行訓練後觀察 learning curve 的走勢"
   ]
  },
  {
   "cell_type": "code",
   "execution_count": 12,
   "metadata": {
    "collapsed": true
   },
   "outputs": [],
   "source": [
    "train, test = keras.datasets.cifar10.load_data()"
   ]
  },
  {
   "cell_type": "code",
   "execution_count": 20,
   "metadata": {
    "collapsed": true
   },
   "outputs": [],
   "source": [
    "## 資料前處理\n",
    "def preproc_x(x, flatten=True):\n",
    "    #x = x / 255.\n",
    "    x = (x / (x.max()-x.min()))*2-1\n",
    "    if flatten:\n",
    "        x = x.reshape((len(x), -1))\n",
    "    return x\n",
    "\n",
    "def preproc_y(y, num_classes=10):\n",
    "    if y.shape[-1] == 1:\n",
    "        y = keras.utils.to_categorical(y, num_classes)\n",
    "    return y  "
   ]
  },
  {
   "cell_type": "code",
   "execution_count": 21,
   "metadata": {
    "collapsed": true
   },
   "outputs": [],
   "source": [
    "x_train, y_train = train\n",
    "x_test, y_test = test\n",
    "\n",
    "# Preproc the inputs\n",
    "x_train = preproc_x(x_train)\n",
    "x_test = preproc_x(x_test)\n",
    "\n",
    "# Preprc the outputs\n",
    "y_train = preproc_y(y_train)\n",
    "y_test = preproc_y(y_test)"
   ]
  },
  {
   "cell_type": "code",
   "execution_count": 22,
   "metadata": {},
   "outputs": [
    {
     "data": {
      "text/plain": [
       "array([[ 0.23137255,  0.24313725,  0.24705882, ...,  0.48235294,\n",
       "         0.36078431,  0.28235294],\n",
       "       [ 0.60392157,  0.69411765,  0.73333333, ...,  0.56078431,\n",
       "         0.52156863,  0.56470588],\n",
       "       [ 1.        ,  1.        ,  1.        , ...,  0.31372549,\n",
       "         0.3372549 ,  0.32941176],\n",
       "       ..., \n",
       "       [ 0.1372549 ,  0.69803922,  0.92156863, ...,  0.04705882,\n",
       "         0.12156863,  0.19607843],\n",
       "       [ 0.74117647,  0.82745098,  0.94117647, ...,  0.76470588,\n",
       "         0.74509804,  0.67058824],\n",
       "       [ 0.89803922,  0.89803922,  0.9372549 , ...,  0.63921569,\n",
       "         0.63921569,  0.63137255]])"
      ]
     },
     "execution_count": 22,
     "metadata": {},
     "output_type": "execute_result"
    }
   ],
   "source": [
    "x_train"
   ]
  },
  {
   "cell_type": "code",
   "execution_count": 31,
   "metadata": {},
   "outputs": [
    {
     "name": "stdout",
     "output_type": "stream",
     "text": [
      "_________________________________________________________________\n",
      "Layer (type)                 Output Shape              Param #   \n",
      "=================================================================\n",
      "input_4 (InputLayer)         (None, 3072)              0         \n",
      "_________________________________________________________________\n",
      "hidden_layer1 (Dense)        (None, 512)               1573376   \n",
      "_________________________________________________________________\n",
      "hidden_layer2 (Dense)        (None, 256)               131328    \n",
      "_________________________________________________________________\n",
      "hidden_layer3 (Dense)        (None, 128)               32896     \n",
      "_________________________________________________________________\n",
      "hidden_layer4 (Dense)        (None, 64)                8256      \n",
      "_________________________________________________________________\n",
      "hidden_layer5 (Dense)        (None, 32)                2080      \n",
      "_________________________________________________________________\n",
      "output (Dense)               (None, 10)                330       \n",
      "=================================================================\n",
      "Total params: 1,748,266\n",
      "Trainable params: 1,748,266\n",
      "Non-trainable params: 0\n",
      "_________________________________________________________________\n"
     ]
    }
   ],
   "source": [
    "## 建立你的神經網路\n",
    "\n",
    "def build_mlp(input_shape, output_units=10, num_neurons=[512, 256, 128, 64, 32]):\n",
    "    input_layer = keras.layers.Input(input_shape)\n",
    "    \n",
    "    for i, n_units in enumerate(num_neurons):\n",
    "        if i == 0:\n",
    "            x = keras.layers.Dense(units=n_units, activation=\"relu\", name=\"hidden_layer\"+str(i+1))(input_layer)\n",
    "        else:\n",
    "            x = keras.layers.Dense(units=n_units, activation=\"relu\", name=\"hidden_layer\"+str(i+1))(x)\n",
    "    \n",
    "    out = keras.layers.Dense(units=output_units, activation=\"softmax\", name=\"output\")(x)\n",
    "    \n",
    "    model = keras.models.Model(inputs=[input_layer], outputs=[out])\n",
    "    return model\n",
    "\n",
    "model = build_mlp(input_shape=x_train.shape[1:])\n",
    "model.summary()"
   ]
  },
  {
   "cell_type": "code",
   "execution_count": 32,
   "metadata": {
    "collapsed": true
   },
   "outputs": [],
   "source": [
    "## 超參數設定\n",
    "LEARNING_RATE = 0.001\n",
    "EPOCHS = 40\n",
    "BATCH_SIZE = 256"
   ]
  },
  {
   "cell_type": "code",
   "execution_count": 33,
   "metadata": {
    "collapsed": true
   },
   "outputs": [],
   "source": [
    "optimizer = keras.optimizers.Adam(lr=LEARNING_RATE)\n",
    "model.compile(loss=\"categorical_crossentropy\", metrics=[\"accuracy\"], optimizer=optimizer)"
   ]
  },
  {
   "cell_type": "code",
   "execution_count": 34,
   "metadata": {},
   "outputs": [
    {
     "name": "stdout",
     "output_type": "stream",
     "text": [
      "Train on 50000 samples, validate on 10000 samples\n",
      "Epoch 1/40\n",
      "50000/50000 [==============================] - 10s 202us/step - loss: 1.9366 - acc: 0.2890 - val_loss: 1.7859 - val_acc: 0.3523\n",
      "Epoch 2/40\n",
      "50000/50000 [==============================] - 9s 190us/step - loss: 1.7393 - acc: 0.3702 - val_loss: 1.6958 - val_acc: 0.3840\n",
      "Epoch 3/40\n",
      "50000/50000 [==============================] - 10s 190us/step - loss: 1.6505 - acc: 0.4063 - val_loss: 1.6633 - val_acc: 0.4008\n",
      "Epoch 4/40\n",
      "50000/50000 [==============================] - 9s 190us/step - loss: 1.5895 - acc: 0.4316 - val_loss: 1.5398 - val_acc: 0.4496\n",
      "Epoch 5/40\n",
      "50000/50000 [==============================] - 9s 189us/step - loss: 1.5380 - acc: 0.4516 - val_loss: 1.5403 - val_acc: 0.4419\n",
      "Epoch 6/40\n",
      "50000/50000 [==============================] - 9s 189us/step - loss: 1.5038 - acc: 0.4603 - val_loss: 1.5217 - val_acc: 0.4534\n",
      "Epoch 7/40\n",
      "50000/50000 [==============================] - 9s 190us/step - loss: 1.4653 - acc: 0.4782 - val_loss: 1.4782 - val_acc: 0.4746\n",
      "Epoch 8/40\n",
      "50000/50000 [==============================] - 9s 190us/step - loss: 1.4346 - acc: 0.4874 - val_loss: 1.4611 - val_acc: 0.4852\n",
      "Epoch 9/40\n",
      "50000/50000 [==============================] - 9s 190us/step - loss: 1.4092 - acc: 0.4968 - val_loss: 1.5123 - val_acc: 0.4635\n",
      "Epoch 10/40\n",
      "50000/50000 [==============================] - 10s 190us/step - loss: 1.3858 - acc: 0.5037 - val_loss: 1.4470 - val_acc: 0.4867\n",
      "Epoch 11/40\n",
      "50000/50000 [==============================] - 10s 194us/step - loss: 1.3663 - acc: 0.5111 - val_loss: 1.4420 - val_acc: 0.4859\n",
      "Epoch 12/40\n",
      "50000/50000 [==============================] - 10s 193us/step - loss: 1.3267 - acc: 0.5275 - val_loss: 1.4068 - val_acc: 0.5009\n",
      "Epoch 13/40\n",
      "50000/50000 [==============================] - 10s 192us/step - loss: 1.3113 - acc: 0.5300 - val_loss: 1.4444 - val_acc: 0.4887\n",
      "Epoch 14/40\n",
      "50000/50000 [==============================] - 10s 190us/step - loss: 1.2975 - acc: 0.5365 - val_loss: 1.4487 - val_acc: 0.4833\n",
      "Epoch 15/40\n",
      "50000/50000 [==============================] - 10s 191us/step - loss: 1.2693 - acc: 0.5466 - val_loss: 1.4137 - val_acc: 0.4983\n",
      "Epoch 16/40\n",
      "50000/50000 [==============================] - 10s 191us/step - loss: 1.2436 - acc: 0.5576 - val_loss: 1.3839 - val_acc: 0.5092\n",
      "Epoch 17/40\n",
      "50000/50000 [==============================] - 10s 190us/step - loss: 1.2263 - acc: 0.5625 - val_loss: 1.4029 - val_acc: 0.5052\n",
      "Epoch 18/40\n",
      "50000/50000 [==============================] - 9s 190us/step - loss: 1.2022 - acc: 0.5727 - val_loss: 1.3963 - val_acc: 0.5119\n",
      "Epoch 19/40\n",
      "50000/50000 [==============================] - 10s 190us/step - loss: 1.1875 - acc: 0.5753 - val_loss: 1.4006 - val_acc: 0.5081\n",
      "Epoch 20/40\n",
      "50000/50000 [==============================] - 9s 190us/step - loss: 1.1646 - acc: 0.5827 - val_loss: 1.4201 - val_acc: 0.5035\n",
      "Epoch 21/40\n",
      "50000/50000 [==============================] - 9s 190us/step - loss: 1.1389 - acc: 0.5910 - val_loss: 1.3948 - val_acc: 0.5169\n",
      "Epoch 22/40\n",
      "50000/50000 [==============================] - 10s 190us/step - loss: 1.1234 - acc: 0.5983 - val_loss: 1.3806 - val_acc: 0.5170\n",
      "Epoch 23/40\n",
      "50000/50000 [==============================] - 10s 190us/step - loss: 1.1058 - acc: 0.6059 - val_loss: 1.3887 - val_acc: 0.5184\n",
      "Epoch 24/40\n",
      "50000/50000 [==============================] - 10s 192us/step - loss: 1.0808 - acc: 0.6131 - val_loss: 1.3966 - val_acc: 0.5139\n",
      "Epoch 25/40\n",
      "50000/50000 [==============================] - 10s 190us/step - loss: 1.0574 - acc: 0.6199 - val_loss: 1.4671 - val_acc: 0.5120\n",
      "Epoch 26/40\n",
      "50000/50000 [==============================] - 10s 191us/step - loss: 1.0568 - acc: 0.6220 - val_loss: 1.4160 - val_acc: 0.5091\n",
      "Epoch 27/40\n",
      "50000/50000 [==============================] - 10s 193us/step - loss: 1.0301 - acc: 0.6320 - val_loss: 1.4195 - val_acc: 0.5164\n",
      "Epoch 28/40\n",
      "50000/50000 [==============================] - 10s 191us/step - loss: 1.0041 - acc: 0.6401 - val_loss: 1.4427 - val_acc: 0.5120\n",
      "Epoch 29/40\n",
      "50000/50000 [==============================] - 9s 190us/step - loss: 0.9916 - acc: 0.6434 - val_loss: 1.4186 - val_acc: 0.5231\n",
      "Epoch 30/40\n",
      "50000/50000 [==============================] - 9s 190us/step - loss: 0.9765 - acc: 0.6489 - val_loss: 1.4612 - val_acc: 0.5272\n",
      "Epoch 31/40\n",
      "50000/50000 [==============================] - 9s 190us/step - loss: 0.9513 - acc: 0.6572 - val_loss: 1.5315 - val_acc: 0.4985\n",
      "Epoch 32/40\n",
      "50000/50000 [==============================] - 10s 191us/step - loss: 0.9373 - acc: 0.6634 - val_loss: 1.4572 - val_acc: 0.5218\n",
      "Epoch 33/40\n",
      "50000/50000 [==============================] - 10s 190us/step - loss: 0.9149 - acc: 0.6719 - val_loss: 1.4911 - val_acc: 0.5178\n",
      "Epoch 34/40\n",
      "50000/50000 [==============================] - 10s 191us/step - loss: 0.8984 - acc: 0.6763 - val_loss: 1.4949 - val_acc: 0.5194\n",
      "Epoch 35/40\n",
      "50000/50000 [==============================] - 9s 190us/step - loss: 0.8850 - acc: 0.6809 - val_loss: 1.4672 - val_acc: 0.5169\n",
      "Epoch 36/40\n",
      "50000/50000 [==============================] - 9s 190us/step - loss: 0.8717 - acc: 0.6857 - val_loss: 1.5598 - val_acc: 0.5041\n",
      "Epoch 37/40\n",
      "50000/50000 [==============================] - 9s 190us/step - loss: 0.8630 - acc: 0.6907 - val_loss: 1.5361 - val_acc: 0.5147\n",
      "Epoch 38/40\n",
      "50000/50000 [==============================] - 9s 190us/step - loss: 0.8353 - acc: 0.6974 - val_loss: 1.5759 - val_acc: 0.5141\n",
      "Epoch 39/40\n",
      "50000/50000 [==============================] - 9s 189us/step - loss: 0.8232 - acc: 0.7041 - val_loss: 1.5998 - val_acc: 0.5151\n",
      "Epoch 40/40\n",
      "50000/50000 [==============================] - 9s 190us/step - loss: 0.8017 - acc: 0.7112 - val_loss: 1.5606 - val_acc: 0.5233\n"
     ]
    },
    {
     "data": {
      "text/plain": [
       "<keras.callbacks.History at 0x7f67758e5d68>"
      ]
     },
     "execution_count": 34,
     "metadata": {},
     "output_type": "execute_result"
    }
   ],
   "source": [
    "model.fit(x_train, y_train, \n",
    "          epochs=EPOCHS, \n",
    "          batch_size=BATCH_SIZE, \n",
    "          validation_data=(x_test, y_test), \n",
    "          shuffle=True)"
   ]
  },
  {
   "cell_type": "code",
   "execution_count": 35,
   "metadata": {},
   "outputs": [
    {
     "data": {
      "image/png": "[encoded data removed]",
      "text/plain": [
       "<matplotlib.figure.Figure at 0x7f678c0801d0>"
      ]
     },
     "metadata": {},
     "output_type": "display_data"
    },
    {
     "data": {
      "image/png": "[encoded data removed]",
      "text/plain": [
       "<matplotlib.figure.Figure at 0x7f67758debe0>"
      ]
     },
     "metadata": {},
     "output_type": "display_data"
    }
   ],
   "source": [
    "import matplotlib.pyplot as plt\n",
    "\n",
    "\n",
    "train_loss = model.history.history[\"loss\"]\n",
    "valid_loss = model.history.history[\"val_loss\"]\n",
    "\n",
    "train_acc = model.history.history[\"acc\"]\n",
    "valid_acc = model.history.history[\"val_acc\"]\n",
    "\n",
    "plt.plot(range(len(train_loss)), train_loss, label=\"train loss\")\n",
    "plt.plot(range(len(valid_loss)), valid_loss, label=\"valid loss\")\n",
    "plt.legend()\n",
    "plt.title(\"Loss\")\n",
    "plt.show()\n",
    "\n",
    "plt.plot(range(len(train_acc)), train_acc, label=\"train accuracy\")\n",
    "plt.plot(range(len(valid_acc)), valid_acc, label=\"valid accuracy\")\n",
    "plt.legend()\n",
    "plt.title(\"Accuracy\")\n",
    "plt.show()"
   ]
  },
  {
   "cell_type": "markdown",
   "metadata": {},
   "source": []
  }
 ],
 "metadata": {
  "kernelspec": {
   "display_name": "Python 3",
   "language": "python",
   "name": "python3"
  },
  "language_info": {
   "codemirror_mode": {
    "name": "ipython",
    "version": 3
   },
   "file_extension": ".py",
   "mimetype": "text/x-python",
   "name": "python",
   "nbconvert_exporter": "python",
   "pygments_lexer": "ipython3",
   "version": "3.6.3"
  }
 },
 "nbformat": 4,
 "nbformat_minor": 2
}
