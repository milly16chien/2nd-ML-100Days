{
 "cells": [
  {
   "cell_type": "markdown",
   "metadata": {},
   "source": [
    "# 作業重點:\n",
    "3 層神經網路\n",
    "\n",
    "通過增加更多的中間層，以對更多關係的組合進行建模\n",
    "\n",
    "syn1 權值矩陣將隱層的組合輸出映射到最終結果，\n",
    "\n",
    "而在更新 syn1 的同時，還需要更新 syn0 權值矩陣，\n",
    "\n",
    "以從輸入資料中更好地產生這些組合"
   ]
  },
  {
   "cell_type": "code",
   "execution_count": 1,
   "metadata": {},
   "outputs": [],
   "source": [
    "import numpy as np\n",
    "\n",
    "#def nonlin(x,deriv=False): #define sigmoid function\n",
    "#    if(deriv==True):\n",
    "#        return x*(1-x)  ##<----這寫錯 除非用遞回寫法\n",
    "#    return 1/(1+np.exp(-x))\n",
    "\n",
    "def sigmoid(x):\n",
    "    return 1/(1+np.exp(-x))\n",
    "def D_sigmoid(x): # 另外自己寫一個sigmoid的微分含樹\n",
    "    return sigmoid(x)*(1-sigmoid(x))\n"
   ]
  },
  {
   "cell_type": "code",
   "execution_count": 2,
   "metadata": {},
   "outputs": [
    {
     "data": {
      "text/plain": [
       "array([[0],\n",
       "       [0],\n",
       "       [1],\n",
       "       [1]])"
      ]
     },
     "execution_count": 2,
     "metadata": {},
     "output_type": "execute_result"
    }
   ],
   "source": [
    "y = np.array([[0,0,1,1]]).T\n",
    "y"
   ]
  },
  {
   "cell_type": "code",
   "execution_count": 3,
   "metadata": {},
   "outputs": [],
   "source": [
    "## given x and y and initial weight\n",
    "\n",
    "X = np.array([  [0,0,1],\n",
    "                [0,1,1],\n",
    "                [1,0,1],\n",
    "                [1,1,1] ])  \n",
    "        \n",
    "# define output dataset \n",
    "y = np.array([[0,0,1,1]]).T\n",
    "\n",
    "np.random.seed(1)\n",
    "syn0 = 2*np.random.random((3,1)) - 1\n",
    "\n",
    "##-->建構一個 3d input 然後直接 output的網路"
   ]
  },
  {
   "cell_type": "code",
   "execution_count": 5,
   "metadata": {},
   "outputs": [
    {
     "name": "stdout",
     "output_type": "stream",
     "text": [
      "Output After Training:\n",
      "\n",
      "[[0.00966449]\n",
      " [0.00786506]\n",
      " [0.99358898]\n",
      " [0.99211957]]\n"
     ]
    }
   ],
   "source": [
    "## forward and backwordprobgation\n",
    "\n",
    "sse_error_hist = [] ##用來記錄 error變化\n",
    "for iter in range(10000): #跑個10000個batch update\n",
    "    # forward propagation\n",
    "    l0 = X\n",
    "    l1 = sigmoid(np.dot(l0,syn0))\n",
    "\n",
    "    ### 原範例\n",
    "    #l1_error = y - l1\n",
    "    #l1_delta = l1_error * nonlin(l1,True)\n",
    "    # update weights\n",
    "    #syn0 += np.dot(l0.T,l1_delta)\n",
    "    \n",
    "    ### from chibao\n",
    "    sse = np.sum(0.5*(y-l1)**2)\n",
    "    \n",
    "    l1_delta = np.dot( l0.T , -1*(y-l1)*D_sigmoid(np.dot(l0,syn0))  ) #<-error對 syn0微分後的值\n",
    "    syn0 -= l1_delta #gradient descend update\n",
    "    sse_error_hist.append(sse)\n",
    "    \n",
    "print(\"Output After Training:\\n\")\n",
    "print(l1)\n"
   ]
  },
  {
   "cell_type": "code",
   "execution_count": 6,
   "metadata": {},
   "outputs": [
    {
     "data": {
      "image/png": "[encoded data removed]",
      "text/plain": [
       "<Figure size 432x288 with 1 Axes>"
      ]
     },
     "metadata": {
      "needs_background": "light"
     },
     "output_type": "display_data"
    }
   ],
   "source": [
    "#把 error history 畫出來看看是否train過頭˙\n",
    "import matplotlib.pyplot as plt\n",
    "%matplotlib inline \n",
    "#適用於 Jupyter Notebook, 宣告直接在cell 內印出執行結果\n",
    "plt.plot(sse_error_hist, ms=3, lw=1.5, color='black')\n",
    "plt.xlabel(r'$L1$', fontsize=16)\n",
    "plt.ylabel('sum of square error')\n",
    "plt.show()\n",
    "\n",
    "##-->可以發現其實可以很早就停了"
   ]
  },
  {
   "cell_type": "markdown",
   "metadata": {},
   "source": [
    "## HW多加一層hidden layer"
   ]
  },
  {
   "cell_type": "code",
   "execution_count": 7,
   "metadata": {},
   "outputs": [],
   "source": [
    "##  x and y 一樣，initial weight數量部一樣\n",
    "np.random.seed(1)\n",
    "syn0 = 2*np.random.random((3,50)) - 1 # 多加一層 hidden layer 共50顆\n",
    "syn1 = 2*np.random.random((50,1)) - 1\n",
    "\n",
    "##-->建構一個input 3d 中間一層50顆的hidden layer 最後output 1d 的網路"
   ]
  },
  {
   "cell_type": "code",
   "execution_count": 8,
   "metadata": {},
   "outputs": [
    {
     "name": "stdout",
     "output_type": "stream",
     "text": [
      "Output After Training:\n",
      "\n",
      "[[0.45206241]\n",
      " [0.49858314]\n",
      " [0.97825447]\n",
      " [0.97403342]]\n"
     ]
    }
   ],
   "source": [
    "sse_error_hist = []\n",
    "for iter in range(10000):\n",
    "    l0 = X\n",
    "    l1 = sigmoid(np.dot(l0,syn0)) \n",
    "    l2 = sigmoid(np.dot(l1,syn1))\n",
    "\n",
    "\n",
    "    sse = np.sum(0.5*(y-l2)**2)\n",
    "    \n",
    "    l2_delta =  np.dot( l1.T , -1*(y-l2)*D_sigmoid(np.dot(l1,syn1))  )  ##<-error對 syn1微分後的值\n",
    "    l1_delta = np.dot( l0.T , -1*(y-l2)*D_sigmoid(np.dot(l1,syn1))*D_sigmoid(np.dot(l0,syn0))  ) ##<-error對 syn0微分後的值\n",
    "    \n",
    "    syn1 -= l2_delta #gradient descend update\n",
    "    syn0 -= l1_delta #gradient descend update\n",
    "    \n",
    "    sse_error_hist.append(sse)\n",
    "\n",
    "print(\"Output After Training:\\n\")\n",
    "print(l2)"
   ]
  },
  {
   "cell_type": "code",
   "execution_count": 9,
   "metadata": {},
   "outputs": [
    {
     "data": {
      "image/png": "[encoded data removed]",
      "text/plain": [
       "<Figure size 432x288 with 1 Axes>"
      ]
     },
     "metadata": {
      "needs_background": "light"
     },
     "output_type": "display_data"
    }
   ],
   "source": [
    "#把 error history 畫出來看看是否train過頭˙\n",
    "import matplotlib.pyplot as plt\n",
    "%matplotlib inline \n",
    "#適用於 Jupyter Notebook, 宣告直接在cell 內印出執行結果\n",
    "plt.plot(sse_error_hist, ms=3, lw=1.5, color='black')\n",
    "plt.xlabel(r'$L1$', fontsize=16)\n",
    "plt.ylabel('sum of square error')\n",
    "plt.show()\n",
    "\n",
    "##-->發現到1000就收斂 到4000以上開始爛掉 所以應該訓練到1000就可停了"
   ]
  },
  {
   "cell_type": "code",
   "execution_count": 11,
   "metadata": {},
   "outputs": [
    {
     "name": "stdout",
     "output_type": "stream",
     "text": [
      "Output After Training:\n",
      "\n",
      "[[0.0326807 ]\n",
      " [0.02952227]\n",
      " [0.97842632]\n",
      " [0.97747383]]\n"
     ]
    }
   ],
   "source": [
    "##於是乎 重train 一次只迭代1000次\n",
    "\n",
    "np.random.seed(1)\n",
    "syn0 = 2*np.random.random((3,50)) - 1 \n",
    "syn1 = 2*np.random.random((50,1)) - 1\n",
    "\n",
    "sse_error_hist = []\n",
    "for iter in range(1000):\n",
    "    l0 = X\n",
    "    l1 = sigmoid(np.dot(l0,syn0)) \n",
    "    l2 = sigmoid(np.dot(l1,syn1))\n",
    "\n",
    "\n",
    "    sse = np.sum(0.5*(y-l2)**2)\n",
    "    \n",
    "    l2_delta =  np.dot( l1.T , -1*(y-l2)*D_sigmoid(np.dot(l1,syn1))  )  ##<-error對 syn1微分後的值\n",
    "    l1_delta = np.dot( l0.T , -1*(y-l2)*D_sigmoid(np.dot(l1,syn1))*D_sigmoid(np.dot(l0,syn0))  ) ##<-error對 syn0微分後的值\n",
    "    \n",
    "    syn1 -= l2_delta #gradient descend update\n",
    "    syn0 -= l1_delta #gradient descend update\n",
    "    \n",
    "    sse_error_hist.append(sse)\n",
    "\n",
    "print(\"Output After Training:\\n\")\n",
    "print(l2)"
   ]
  },
  {
   "cell_type": "markdown",
   "metadata": {},
   "source": [
    "### 可以發現 多加一層並沒有什麼改善(但原本就已經很好了) 反而增加overfitting的風險 。  sigmoid output 應該使用logitstic loss 而非mse loss 且可加入learning rate 以及換其他種optimization method(e.g.adam)試試"
   ]
  },
  {
   "cell_type": "code",
   "execution_count": null,
   "metadata": {},
   "outputs": [],
   "source": []
  }
 ],
 "metadata": {
  "kernelspec": {
   "display_name": "Python 3",
   "language": "python",
   "name": "python3"
  },
  "language_info": {
   "codemirror_mode": {
    "name": "ipython",
    "version": 3
   },
   "file_extension": ".py",
   "mimetype": "text/x-python",
   "name": "python",
   "nbconvert_exporter": "python",
   "pygments_lexer": "ipython3",
   "version": "3.7.3"
  }
 },
 "nbformat": 4,
 "nbformat_minor": 2
}
