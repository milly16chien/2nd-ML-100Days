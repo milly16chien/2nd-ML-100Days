{
 "cells": [
  {
   "cell_type": "code",
   "execution_count": 1,
   "metadata": {},
   "outputs": [],
   "source": [
    "# 載入基本套件\n",
    "import os\n",
    "import pandas as pd\n",
    "import numpy as np\n",
    "# 模型\n",
    "from sklearn import datasets, metrics\n",
    "from sklearn.model_selection import train_test_split, KFold, GridSearchCV\n",
    "from sklearn.ensemble import GradientBoostingClassifier, GradientBoostingRegressor"
   ]
  },
  {
   "cell_type": "code",
   "execution_count": 48,
   "metadata": {},
   "outputs": [
    {
     "name": "stdout",
     "output_type": "stream",
     "text": [
      "(1000, 40)\n",
      "(9000, 40)\n",
      "(1000, 1)\n"
     ]
    }
   ],
   "source": [
    "# load data\n",
    "# 檔案路徑\n",
    "data_path = 'data/kaggle/data'\n",
    "train_path = os.path.join(data_path, 'train.csv')\n",
    "train_label_path = os.path.join(data_path, 'trainLabels.csv')\n",
    "test_path = os.path.join(data_path, 'test.csv')\n",
    "\n",
    "# 讀取訓練與測試資料\n",
    "df_train = pd.read_csv(train_path,header=None)\n",
    "df_test = pd.read_csv(test_path,header=None)\n",
    "train_Y = pd.read_csv(train_label_path,header=None)\n",
    "print(df_train.shape)\n",
    "print(df_test.shape)\n",
    "print(df_trainLabels.shape)"
   ]
  },
  {
   "cell_type": "code",
   "execution_count": 49,
   "metadata": {},
   "outputs": [
    {
     "data": {
      "text/html": [
       "<div>\n",
       "<style scoped>\n",
       "    .dataframe tbody tr th:only-of-type {\n",
       "        vertical-align: middle;\n",
       "    }\n",
       "\n",
       "    .dataframe tbody tr th {\n",
       "        vertical-align: top;\n",
       "    }\n",
       "\n",
       "    .dataframe thead th {\n",
       "        text-align: right;\n",
       "    }\n",
       "</style>\n",
       "<table border=\"1\" class=\"dataframe\">\n",
       "  <thead>\n",
       "    <tr style=\"text-align: right;\">\n",
       "      <th></th>\n",
       "      <th>0</th>\n",
       "      <th>1</th>\n",
       "      <th>2</th>\n",
       "      <th>3</th>\n",
       "      <th>4</th>\n",
       "      <th>5</th>\n",
       "      <th>6</th>\n",
       "      <th>7</th>\n",
       "      <th>8</th>\n",
       "      <th>9</th>\n",
       "      <th>...</th>\n",
       "      <th>30</th>\n",
       "      <th>31</th>\n",
       "      <th>32</th>\n",
       "      <th>33</th>\n",
       "      <th>34</th>\n",
       "      <th>35</th>\n",
       "      <th>36</th>\n",
       "      <th>37</th>\n",
       "      <th>38</th>\n",
       "      <th>39</th>\n",
       "    </tr>\n",
       "  </thead>\n",
       "  <tbody>\n",
       "    <tr>\n",
       "      <th>0</th>\n",
       "      <td>0.299403</td>\n",
       "      <td>-1.226624</td>\n",
       "      <td>1.498425</td>\n",
       "      <td>-1.176150</td>\n",
       "      <td>5.289853</td>\n",
       "      <td>0.208297</td>\n",
       "      <td>2.404498</td>\n",
       "      <td>1.594506</td>\n",
       "      <td>-0.051608</td>\n",
       "      <td>0.663234</td>\n",
       "      <td>...</td>\n",
       "      <td>-0.850465</td>\n",
       "      <td>-0.622990</td>\n",
       "      <td>-1.833057</td>\n",
       "      <td>0.293024</td>\n",
       "      <td>3.552681</td>\n",
       "      <td>0.717611</td>\n",
       "      <td>3.305972</td>\n",
       "      <td>-2.715559</td>\n",
       "      <td>-2.682409</td>\n",
       "      <td>0.101050</td>\n",
       "    </tr>\n",
       "    <tr>\n",
       "      <th>1</th>\n",
       "      <td>-1.174176</td>\n",
       "      <td>0.332157</td>\n",
       "      <td>0.949919</td>\n",
       "      <td>-1.285328</td>\n",
       "      <td>2.199061</td>\n",
       "      <td>-0.151268</td>\n",
       "      <td>-0.427039</td>\n",
       "      <td>2.619246</td>\n",
       "      <td>-0.765884</td>\n",
       "      <td>-0.093780</td>\n",
       "      <td>...</td>\n",
       "      <td>-0.819750</td>\n",
       "      <td>0.012037</td>\n",
       "      <td>2.038836</td>\n",
       "      <td>0.468579</td>\n",
       "      <td>-0.517657</td>\n",
       "      <td>0.422326</td>\n",
       "      <td>0.803699</td>\n",
       "      <td>1.213219</td>\n",
       "      <td>1.382932</td>\n",
       "      <td>-1.817761</td>\n",
       "    </tr>\n",
       "    <tr>\n",
       "      <th>2</th>\n",
       "      <td>1.192222</td>\n",
       "      <td>-0.414371</td>\n",
       "      <td>0.067054</td>\n",
       "      <td>-2.233568</td>\n",
       "      <td>3.658881</td>\n",
       "      <td>0.089007</td>\n",
       "      <td>0.203439</td>\n",
       "      <td>-4.219054</td>\n",
       "      <td>-1.184919</td>\n",
       "      <td>-1.240310</td>\n",
       "      <td>...</td>\n",
       "      <td>-0.604501</td>\n",
       "      <td>0.750054</td>\n",
       "      <td>-3.360521</td>\n",
       "      <td>0.856988</td>\n",
       "      <td>-2.751451</td>\n",
       "      <td>-1.582735</td>\n",
       "      <td>1.672246</td>\n",
       "      <td>0.656438</td>\n",
       "      <td>-0.932473</td>\n",
       "      <td>2.987436</td>\n",
       "    </tr>\n",
       "    <tr>\n",
       "      <th>3</th>\n",
       "      <td>1.573270</td>\n",
       "      <td>-0.580318</td>\n",
       "      <td>-0.866332</td>\n",
       "      <td>-0.603812</td>\n",
       "      <td>3.125716</td>\n",
       "      <td>0.870321</td>\n",
       "      <td>-0.161992</td>\n",
       "      <td>4.499666</td>\n",
       "      <td>1.038741</td>\n",
       "      <td>-1.092716</td>\n",
       "      <td>...</td>\n",
       "      <td>1.022959</td>\n",
       "      <td>1.275598</td>\n",
       "      <td>-3.480110</td>\n",
       "      <td>-1.065252</td>\n",
       "      <td>2.153133</td>\n",
       "      <td>1.563539</td>\n",
       "      <td>2.767117</td>\n",
       "      <td>0.215748</td>\n",
       "      <td>0.619645</td>\n",
       "      <td>1.883397</td>\n",
       "    </tr>\n",
       "    <tr>\n",
       "      <th>4</th>\n",
       "      <td>-0.613071</td>\n",
       "      <td>-0.644204</td>\n",
       "      <td>1.112558</td>\n",
       "      <td>-0.032397</td>\n",
       "      <td>3.490142</td>\n",
       "      <td>-0.011935</td>\n",
       "      <td>1.443521</td>\n",
       "      <td>-4.290282</td>\n",
       "      <td>-1.761308</td>\n",
       "      <td>0.807652</td>\n",
       "      <td>...</td>\n",
       "      <td>0.513906</td>\n",
       "      <td>-1.803473</td>\n",
       "      <td>0.518579</td>\n",
       "      <td>-0.205029</td>\n",
       "      <td>-4.744566</td>\n",
       "      <td>-1.520015</td>\n",
       "      <td>1.830651</td>\n",
       "      <td>0.870772</td>\n",
       "      <td>-1.894609</td>\n",
       "      <td>0.408332</td>\n",
       "    </tr>\n",
       "  </tbody>\n",
       "</table>\n",
       "<p>5 rows × 40 columns</p>\n",
       "</div>"
      ],
      "text/plain": [
       "         0         1         2         3         4         5         6   \\\n",
       "0  0.299403 -1.226624  1.498425 -1.176150  5.289853  0.208297  2.404498   \n",
       "1 -1.174176  0.332157  0.949919 -1.285328  2.199061 -0.151268 -0.427039   \n",
       "2  1.192222 -0.414371  0.067054 -2.233568  3.658881  0.089007  0.203439   \n",
       "3  1.573270 -0.580318 -0.866332 -0.603812  3.125716  0.870321 -0.161992   \n",
       "4 -0.613071 -0.644204  1.112558 -0.032397  3.490142 -0.011935  1.443521   \n",
       "\n",
       "         7         8         9     ...           30        31        32  \\\n",
       "0  1.594506 -0.051608  0.663234    ...    -0.850465 -0.622990 -1.833057   \n",
       "1  2.619246 -0.765884 -0.093780    ...    -0.819750  0.012037  2.038836   \n",
       "2 -4.219054 -1.184919 -1.240310    ...    -0.604501  0.750054 -3.360521   \n",
       "3  4.499666  1.038741 -1.092716    ...     1.022959  1.275598 -3.480110   \n",
       "4 -4.290282 -1.761308  0.807652    ...     0.513906 -1.803473  0.518579   \n",
       "\n",
       "         33        34        35        36        37        38        39  \n",
       "0  0.293024  3.552681  0.717611  3.305972 -2.715559 -2.682409  0.101050  \n",
       "1  0.468579 -0.517657  0.422326  0.803699  1.213219  1.382932 -1.817761  \n",
       "2  0.856988 -2.751451 -1.582735  1.672246  0.656438 -0.932473  2.987436  \n",
       "3 -1.065252  2.153133  1.563539  2.767117  0.215748  0.619645  1.883397  \n",
       "4 -0.205029 -4.744566 -1.520015  1.830651  0.870772 -1.894609  0.408332  \n",
       "\n",
       "[5 rows x 40 columns]"
      ]
     },
     "execution_count": 49,
     "metadata": {},
     "output_type": "execute_result"
    }
   ],
   "source": [
    "# 合併資料做特徵工程\n",
    "df = pd.concat([df_train,df_test],sort=False)\n",
    "df.head()"
   ]
  },
  {
   "cell_type": "code",
   "execution_count": 12,
   "metadata": {},
   "outputs": [],
   "source": [
    "# 載入標籤編碼與最小最大化, 以便做最小的特徵工程\n",
    "from sklearn.preprocessing import LabelEncoder, MinMaxScaler\n",
    "# 特徵工程-簡化版 : 全部空值先補-1,數字欄位做 MinMaxScaler(將特徵的取值縮小到一個範圍)(這麼做雖然有些暴力, 卻可以最簡單的平衡特徵間影響力)\n",
    "MMEncoder = MinMaxScaler()"
   ]
  },
  {
   "cell_type": "code",
   "execution_count": 10,
   "metadata": {},
   "outputs": [
    {
     "data": {
      "text/plain": [
       "Int64Index([ 0,  1,  2,  3,  4,  5,  6,  7,  8,  9, 10, 11, 12, 13, 14, 15, 16,\n",
       "            17, 18, 19, 20, 21, 22, 23, 24, 25, 26, 27, 28, 29, 30, 31, 32, 33,\n",
       "            34, 35, 36, 37, 38, 39],\n",
       "           dtype='int64')"
      ]
     },
     "execution_count": 10,
     "metadata": {},
     "output_type": "execute_result"
    }
   ],
   "source": [
    "df.columns"
   ]
  },
  {
   "cell_type": "code",
   "execution_count": 13,
   "metadata": {},
   "outputs": [
    {
     "data": {
      "text/html": [
       "<div>\n",
       "<style scoped>\n",
       "    .dataframe tbody tr th:only-of-type {\n",
       "        vertical-align: middle;\n",
       "    }\n",
       "\n",
       "    .dataframe tbody tr th {\n",
       "        vertical-align: top;\n",
       "    }\n",
       "\n",
       "    .dataframe thead th {\n",
       "        text-align: right;\n",
       "    }\n",
       "</style>\n",
       "<table border=\"1\" class=\"dataframe\">\n",
       "  <thead>\n",
       "    <tr style=\"text-align: right;\">\n",
       "      <th></th>\n",
       "      <th>0</th>\n",
       "      <th>1</th>\n",
       "      <th>2</th>\n",
       "      <th>3</th>\n",
       "      <th>4</th>\n",
       "      <th>5</th>\n",
       "      <th>6</th>\n",
       "      <th>7</th>\n",
       "      <th>8</th>\n",
       "      <th>9</th>\n",
       "      <th>...</th>\n",
       "      <th>30</th>\n",
       "      <th>31</th>\n",
       "      <th>32</th>\n",
       "      <th>33</th>\n",
       "      <th>34</th>\n",
       "      <th>35</th>\n",
       "      <th>36</th>\n",
       "      <th>37</th>\n",
       "      <th>38</th>\n",
       "      <th>39</th>\n",
       "    </tr>\n",
       "  </thead>\n",
       "  <tbody>\n",
       "    <tr>\n",
       "      <th>0</th>\n",
       "      <td>0.521848</td>\n",
       "      <td>0.385000</td>\n",
       "      <td>0.696357</td>\n",
       "      <td>0.337709</td>\n",
       "      <td>0.596758</td>\n",
       "      <td>0.459816</td>\n",
       "      <td>0.678536</td>\n",
       "      <td>0.620093</td>\n",
       "      <td>0.514675</td>\n",
       "      <td>0.570771</td>\n",
       "      <td>...</td>\n",
       "      <td>0.452269</td>\n",
       "      <td>0.403072</td>\n",
       "      <td>0.390280</td>\n",
       "      <td>0.563861</td>\n",
       "      <td>0.790045</td>\n",
       "      <td>0.573629</td>\n",
       "      <td>0.698835</td>\n",
       "      <td>0.143881</td>\n",
       "      <td>0.358967</td>\n",
       "      <td>0.462177</td>\n",
       "    </tr>\n",
       "    <tr>\n",
       "      <th>1</th>\n",
       "      <td>0.323043</td>\n",
       "      <td>0.584283</td>\n",
       "      <td>0.621256</td>\n",
       "      <td>0.322782</td>\n",
       "      <td>0.515096</td>\n",
       "      <td>0.415239</td>\n",
       "      <td>0.512366</td>\n",
       "      <td>0.687253</td>\n",
       "      <td>0.422438</td>\n",
       "      <td>0.470981</td>\n",
       "      <td>...</td>\n",
       "      <td>0.456028</td>\n",
       "      <td>0.480840</td>\n",
       "      <td>0.616589</td>\n",
       "      <td>0.583676</td>\n",
       "      <td>0.530993</td>\n",
       "      <td>0.534213</td>\n",
       "      <td>0.557137</td>\n",
       "      <td>0.655388</td>\n",
       "      <td>0.624663</td>\n",
       "      <td>0.351963</td>\n",
       "    </tr>\n",
       "    <tr>\n",
       "      <th>2</th>\n",
       "      <td>0.642301</td>\n",
       "      <td>0.488843</td>\n",
       "      <td>0.500375</td>\n",
       "      <td>0.193134</td>\n",
       "      <td>0.553666</td>\n",
       "      <td>0.445027</td>\n",
       "      <td>0.549366</td>\n",
       "      <td>0.239082</td>\n",
       "      <td>0.368326</td>\n",
       "      <td>0.319846</td>\n",
       "      <td>...</td>\n",
       "      <td>0.482374</td>\n",
       "      <td>0.571220</td>\n",
       "      <td>0.301001</td>\n",
       "      <td>0.627517</td>\n",
       "      <td>0.388825</td>\n",
       "      <td>0.266564</td>\n",
       "      <td>0.606321</td>\n",
       "      <td>0.582898</td>\n",
       "      <td>0.473336</td>\n",
       "      <td>0.627967</td>\n",
       "    </tr>\n",
       "    <tr>\n",
       "      <th>3</th>\n",
       "      <td>0.693710</td>\n",
       "      <td>0.467627</td>\n",
       "      <td>0.372577</td>\n",
       "      <td>0.415962</td>\n",
       "      <td>0.539579</td>\n",
       "      <td>0.541891</td>\n",
       "      <td>0.527920</td>\n",
       "      <td>0.810493</td>\n",
       "      <td>0.655478</td>\n",
       "      <td>0.339302</td>\n",
       "      <td>...</td>\n",
       "      <td>0.681567</td>\n",
       "      <td>0.635581</td>\n",
       "      <td>0.294011</td>\n",
       "      <td>0.410551</td>\n",
       "      <td>0.700972</td>\n",
       "      <td>0.686549</td>\n",
       "      <td>0.668321</td>\n",
       "      <td>0.525522</td>\n",
       "      <td>0.574777</td>\n",
       "      <td>0.564552</td>\n",
       "    </tr>\n",
       "    <tr>\n",
       "      <th>4</th>\n",
       "      <td>0.398744</td>\n",
       "      <td>0.459459</td>\n",
       "      <td>0.643525</td>\n",
       "      <td>0.494089</td>\n",
       "      <td>0.549207</td>\n",
       "      <td>0.432513</td>\n",
       "      <td>0.622141</td>\n",
       "      <td>0.234414</td>\n",
       "      <td>0.293894</td>\n",
       "      <td>0.589808</td>\n",
       "      <td>...</td>\n",
       "      <td>0.619261</td>\n",
       "      <td>0.258504</td>\n",
       "      <td>0.527731</td>\n",
       "      <td>0.507645</td>\n",
       "      <td>0.261976</td>\n",
       "      <td>0.274937</td>\n",
       "      <td>0.615291</td>\n",
       "      <td>0.610803</td>\n",
       "      <td>0.410455</td>\n",
       "      <td>0.479827</td>\n",
       "    </tr>\n",
       "  </tbody>\n",
       "</table>\n",
       "<p>5 rows × 40 columns</p>\n",
       "</div>"
      ],
      "text/plain": [
       "         0         1         2         3         4         5         6   \\\n",
       "0  0.521848  0.385000  0.696357  0.337709  0.596758  0.459816  0.678536   \n",
       "1  0.323043  0.584283  0.621256  0.322782  0.515096  0.415239  0.512366   \n",
       "2  0.642301  0.488843  0.500375  0.193134  0.553666  0.445027  0.549366   \n",
       "3  0.693710  0.467627  0.372577  0.415962  0.539579  0.541891  0.527920   \n",
       "4  0.398744  0.459459  0.643525  0.494089  0.549207  0.432513  0.622141   \n",
       "\n",
       "         7         8         9     ...           30        31        32  \\\n",
       "0  0.620093  0.514675  0.570771    ...     0.452269  0.403072  0.390280   \n",
       "1  0.687253  0.422438  0.470981    ...     0.456028  0.480840  0.616589   \n",
       "2  0.239082  0.368326  0.319846    ...     0.482374  0.571220  0.301001   \n",
       "3  0.810493  0.655478  0.339302    ...     0.681567  0.635581  0.294011   \n",
       "4  0.234414  0.293894  0.589808    ...     0.619261  0.258504  0.527731   \n",
       "\n",
       "         33        34        35        36        37        38        39  \n",
       "0  0.563861  0.790045  0.573629  0.698835  0.143881  0.358967  0.462177  \n",
       "1  0.583676  0.530993  0.534213  0.557137  0.655388  0.624663  0.351963  \n",
       "2  0.627517  0.388825  0.266564  0.606321  0.582898  0.473336  0.627967  \n",
       "3  0.410551  0.700972  0.686549  0.668321  0.525522  0.574777  0.564552  \n",
       "4  0.507645  0.261976  0.274937  0.615291  0.610803  0.410455  0.479827  \n",
       "\n",
       "[5 rows x 40 columns]"
      ]
     },
     "execution_count": 13,
     "metadata": {},
     "output_type": "execute_result"
    }
   ],
   "source": [
    "for c in df.columns:\n",
    "    df[c] = df[c].fillna(-1) # Na 補 -1\n",
    "    # 將數值欄位最大最小化, 因為需要是一維陣列, 所以這邊切出來後用 reshape 降維\n",
    "    df[c] = MMEncoder.fit_transform(df[c].values.reshape(-1, 1))\n",
    "df.head()"
   ]
  },
  {
   "cell_type": "code",
   "execution_count": 50,
   "metadata": {},
   "outputs": [
    {
     "data": {
      "text/plain": [
       "1000"
      ]
     },
     "execution_count": 50,
     "metadata": {},
     "output_type": "execute_result"
    }
   ],
   "source": [
    "train_num = train_Y.shape[0]\n",
    "train_num"
   ]
  },
  {
   "cell_type": "code",
   "execution_count": 51,
   "metadata": {},
   "outputs": [],
   "source": [
    "# 將前述轉換完畢資料 df , 重新切成 train_X, test_X, 因為不論何種特徵工程, 都需要對 train / test 做同樣處理\n",
    "# 常見並簡便的方式就是 - 先將 train / test 接起來, 做完後再拆開, 不然過程當中往往需要將特徵工程部分寫兩次, 麻煩且容易遺漏\n",
    "# 在較複雜的特徵工程中尤其如此, 若實務上如果碰到 train 與 test 需要分階段進行, 則通常會另外寫成函數處理\n",
    "train_X = df[:train_num]\n",
    "test_X = df[train_num:]"
   ]
  },
  {
   "cell_type": "code",
   "execution_count": 57,
   "metadata": {},
   "outputs": [
    {
     "name": "stderr",
     "output_type": "stream",
     "text": [
      "D:\\software\\Anaconda3\\lib\\site-packages\\sklearn\\utils\\validation.py:578: DataConversionWarning: A column-vector y was passed when a 1d array was expected. Please change the shape of y to (n_samples, ), for example using ravel().\n",
      "  y = column_or_1d(y, warn=True)\n"
     ]
    },
    {
     "name": "stdout",
     "output_type": "stream",
     "text": [
      "0.86\n"
     ]
    }
   ],
   "source": [
    "# 切分訓練集/測試集\n",
    "x_train, x_valid, y_train, y_valid = train_test_split(train_X, df_trainLabels, test_size=0.2, random_state=4)\n",
    "\n",
    "# 建立模型\n",
    "clf = GradientBoostingClassifier(random_state=7)\n",
    "\n",
    "# 將訓練資料丟進去模型訓練(參數default)\n",
    "clf.fit(x_train, y_train)\n",
    "\n",
    "# 將測試資料丟進模型得到預測結果\n",
    "y_pred = clf.predict(x_valid)\n",
    "\n",
    "# 先看看使用預設參數得到的結果，約為 0.86 的 accuracy\n",
    "print(metrics.accuracy_score(y_valid, y_pred))"
   ]
  },
  {
   "cell_type": "code",
   "execution_count": 58,
   "metadata": {},
   "outputs": [],
   "source": [
    "# 建立模型\n",
    "clf = GradientBoostingClassifier(\n",
    "    random_state=7,\n",
    "    learning_rate=0.05\n",
    ")"
   ]
  },
  {
   "cell_type": "code",
   "execution_count": 59,
   "metadata": {},
   "outputs": [
    {
     "name": "stdout",
     "output_type": "stream",
     "text": [
      "Fitting 3 folds for each of 108 candidates, totalling 324 fits\n"
     ]
    },
    {
     "name": "stderr",
     "output_type": "stream",
     "text": [
      "[Parallel(n_jobs=-1)]: Done  42 tasks      | elapsed:    7.1s\n",
      "[Parallel(n_jobs=-1)]: Done 192 tasks      | elapsed:  1.0min\n",
      "[Parallel(n_jobs=-1)]: Done 324 out of 324 | elapsed:  2.5min finished\n",
      "D:\\software\\Anaconda3\\lib\\site-packages\\sklearn\\utils\\validation.py:578: DataConversionWarning: A column-vector y was passed when a 1d array was expected. Please change the shape of y to (n_samples, ), for example using ravel().\n",
      "  y = column_or_1d(y, warn=True)\n"
     ]
    }
   ],
   "source": [
    "# 設定要訓練的超參數組合\n",
    "n_estimators = [100, 200, 300] #default = 100\n",
    "max_depth = [1, 5, 7 ,10] #default = 3\n",
    "min_samples_leaf = [3,5,7]#default = 1\n",
    "min_samples_split = [3,4,5] #default = 2\n",
    "param_grid = dict(n_estimators=n_estimators, \n",
    "                  max_depth=max_depth,\n",
    "                  min_samples_leaf=min_samples_leaf,\n",
    "                  min_samples_split=min_samples_split)\n",
    "\n",
    "## 建立搜尋物件，放入模型及參數組合字典 (n_jobs=-1 會使用全部 cpu 平行運算)\n",
    "grid_search = GridSearchCV(clf, param_grid, n_jobs=-1, verbose=1)\n",
    "\n",
    "# 開始搜尋最佳參數\n",
    "grid_result = grid_search.fit(x_train, y_train)"
   ]
  },
  {
   "cell_type": "code",
   "execution_count": 60,
   "metadata": {},
   "outputs": [
    {
     "name": "stdout",
     "output_type": "stream",
     "text": [
      "Best accuracy: 0.887500 using {'max_depth': 5, 'min_samples_leaf': 7, 'min_samples_split': 3, 'n_estimators': 200}\n"
     ]
    }
   ],
   "source": [
    "# 印出最佳結果與最佳參數\n",
    "print(\"Best accuracy: %f using %s\" % (grid_result.best_score_, grid_result.best_params_))"
   ]
  },
  {
   "cell_type": "code",
   "execution_count": 61,
   "metadata": {},
   "outputs": [
    {
     "name": "stderr",
     "output_type": "stream",
     "text": [
      "D:\\software\\Anaconda3\\lib\\site-packages\\sklearn\\utils\\validation.py:578: DataConversionWarning: A column-vector y was passed when a 1d array was expected. Please change the shape of y to (n_samples, ), for example using ravel().\n",
      "  y = column_or_1d(y, warn=True)\n"
     ]
    },
    {
     "name": "stdout",
     "output_type": "stream",
     "text": [
      "0.9\n"
     ]
    }
   ],
   "source": [
    "# 使用最佳參數重新建立模型\n",
    "clf_bestparam = GradientBoostingClassifier(\n",
    "    random_state=7,\n",
    "    learning_rate=0.05,\n",
    "    max_depth=grid_result.best_params_['max_depth'],\n",
    "    n_estimators=grid_result.best_params_['n_estimators'],\n",
    "    min_samples_leaf=grid_result.best_params_['min_samples_leaf'],\n",
    "    min_samples_split=grid_result.best_params_['min_samples_split'])\n",
    "\n",
    "# 訓練模型\n",
    "clf_bestparam.fit(x_train, y_train)\n",
    "\n",
    "# 預測測試集\n",
    "y_pred = clf_bestparam.predict(x_valid)\n",
    "\n",
    "# 調整參數後約可提升至 0.9的 accuracy\n",
    "print(metrics.accuracy_score(y_valid, y_pred))"
   ]
  },
  {
   "cell_type": "code",
   "execution_count": 67,
   "metadata": {},
   "outputs": [],
   "source": [
    "# 預測測試集\n",
    "y_pred = clf_bestparam.predict(test_X)\n",
    "submit = pd.DataFrame({'Id': np.arange(9000)+1, 'Solution': y_pred})\n",
    "submit.to_csv('D48HW_sklearn_practice_submit_GBclassifier.csv', index=False)"
   ]
  }
 ],
 "metadata": {
  "kernelspec": {
   "display_name": "Python 3",
   "language": "python",
   "name": "python3"
  },
  "language_info": {
   "codemirror_mode": {
    "name": "ipython",
    "version": 3
   },
   "file_extension": ".py",
   "mimetype": "text/x-python",
   "name": "python",
   "nbconvert_exporter": "python",
   "pygments_lexer": "ipython3",
   "version": "3.6.0"
  }
 },
 "nbformat": 4,
 "nbformat_minor": 2
}
