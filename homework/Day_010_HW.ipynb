{
 "cells": [
  {
   "cell_type": "markdown",
   "metadata": {},
   "source": [
    "# [教學目標]\n",
    "以下程式碼將示範如何繪製特定特徵與目標值之間的散佈圖, 更直覺地看出特徵與目標的關係<br>\n",
    "繪製前需要觀察資料, 將異常值排除, 並且轉換成適合的數值單位輔助觀察<br>\n",
    "好的圖可以讓你更快認識資料, 繪圖畫的好也是一種藝術<br>\n",
    "# [範例重點]\n",
    "直接列出的觀察方式 (In[3], Out[3])<br>\n",
    "出現異常數值的資料調整方式 (In[4])<br>\n",
    "散佈圖異常與其調整方式 (Out[5], In[6], Out[6])<br>"
   ]
  },
  {
   "cell_type": "code",
   "execution_count": 2,
   "metadata": {},
   "outputs": [],
   "source": [
    "# 載入需要的套件\n",
    "import os\n",
    "import numpy as np\n",
    "import pandas as pd\n",
    "import matplotlib.pyplot as plt\n",
    "%matplotlib inline"
   ]
  },
  {
   "cell_type": "code",
   "execution_count": 3,
   "metadata": {},
   "outputs": [
    {
     "name": "stdout",
     "output_type": "stream",
     "text": [
      "Path of read in data: ./data/application_train.csv\n"
     ]
    },
    {
     "data": {
      "text/html": [
       "<div>\n",
       "<style scoped>\n",
       "    .dataframe tbody tr th:only-of-type {\n",
       "        vertical-align: middle;\n",
       "    }\n",
       "\n",
       "    .dataframe tbody tr th {\n",
       "        vertical-align: top;\n",
       "    }\n",
       "\n",
       "    .dataframe thead th {\n",
       "        text-align: right;\n",
       "    }\n",
       "</style>\n",
       "<table border=\"1\" class=\"dataframe\">\n",
       "  <thead>\n",
       "    <tr style=\"text-align: right;\">\n",
       "      <th></th>\n",
       "      <th>SK_ID_CURR</th>\n",
       "      <th>TARGET</th>\n",
       "      <th>NAME_CONTRACT_TYPE</th>\n",
       "      <th>CODE_GENDER</th>\n",
       "      <th>FLAG_OWN_CAR</th>\n",
       "      <th>FLAG_OWN_REALTY</th>\n",
       "      <th>CNT_CHILDREN</th>\n",
       "      <th>AMT_INCOME_TOTAL</th>\n",
       "      <th>AMT_CREDIT</th>\n",
       "      <th>AMT_ANNUITY</th>\n",
       "      <th>...</th>\n",
       "      <th>FLAG_DOCUMENT_18</th>\n",
       "      <th>FLAG_DOCUMENT_19</th>\n",
       "      <th>FLAG_DOCUMENT_20</th>\n",
       "      <th>FLAG_DOCUMENT_21</th>\n",
       "      <th>AMT_REQ_CREDIT_BUREAU_HOUR</th>\n",
       "      <th>AMT_REQ_CREDIT_BUREAU_DAY</th>\n",
       "      <th>AMT_REQ_CREDIT_BUREAU_WEEK</th>\n",
       "      <th>AMT_REQ_CREDIT_BUREAU_MON</th>\n",
       "      <th>AMT_REQ_CREDIT_BUREAU_QRT</th>\n",
       "      <th>AMT_REQ_CREDIT_BUREAU_YEAR</th>\n",
       "    </tr>\n",
       "  </thead>\n",
       "  <tbody>\n",
       "    <tr>\n",
       "      <th>0</th>\n",
       "      <td>100002</td>\n",
       "      <td>1</td>\n",
       "      <td>Cash loans</td>\n",
       "      <td>M</td>\n",
       "      <td>N</td>\n",
       "      <td>Y</td>\n",
       "      <td>0</td>\n",
       "      <td>202500.0</td>\n",
       "      <td>406597.5</td>\n",
       "      <td>24700.5</td>\n",
       "      <td>...</td>\n",
       "      <td>0</td>\n",
       "      <td>0</td>\n",
       "      <td>0</td>\n",
       "      <td>0</td>\n",
       "      <td>0.0</td>\n",
       "      <td>0.0</td>\n",
       "      <td>0.0</td>\n",
       "      <td>0.0</td>\n",
       "      <td>0.0</td>\n",
       "      <td>1.0</td>\n",
       "    </tr>\n",
       "    <tr>\n",
       "      <th>1</th>\n",
       "      <td>100003</td>\n",
       "      <td>0</td>\n",
       "      <td>Cash loans</td>\n",
       "      <td>F</td>\n",
       "      <td>N</td>\n",
       "      <td>N</td>\n",
       "      <td>0</td>\n",
       "      <td>270000.0</td>\n",
       "      <td>1293502.5</td>\n",
       "      <td>35698.5</td>\n",
       "      <td>...</td>\n",
       "      <td>0</td>\n",
       "      <td>0</td>\n",
       "      <td>0</td>\n",
       "      <td>0</td>\n",
       "      <td>0.0</td>\n",
       "      <td>0.0</td>\n",
       "      <td>0.0</td>\n",
       "      <td>0.0</td>\n",
       "      <td>0.0</td>\n",
       "      <td>0.0</td>\n",
       "    </tr>\n",
       "    <tr>\n",
       "      <th>2</th>\n",
       "      <td>100004</td>\n",
       "      <td>0</td>\n",
       "      <td>Revolving loans</td>\n",
       "      <td>M</td>\n",
       "      <td>Y</td>\n",
       "      <td>Y</td>\n",
       "      <td>0</td>\n",
       "      <td>67500.0</td>\n",
       "      <td>135000.0</td>\n",
       "      <td>6750.0</td>\n",
       "      <td>...</td>\n",
       "      <td>0</td>\n",
       "      <td>0</td>\n",
       "      <td>0</td>\n",
       "      <td>0</td>\n",
       "      <td>0.0</td>\n",
       "      <td>0.0</td>\n",
       "      <td>0.0</td>\n",
       "      <td>0.0</td>\n",
       "      <td>0.0</td>\n",
       "      <td>0.0</td>\n",
       "    </tr>\n",
       "    <tr>\n",
       "      <th>3</th>\n",
       "      <td>100006</td>\n",
       "      <td>0</td>\n",
       "      <td>Cash loans</td>\n",
       "      <td>F</td>\n",
       "      <td>N</td>\n",
       "      <td>Y</td>\n",
       "      <td>0</td>\n",
       "      <td>135000.0</td>\n",
       "      <td>312682.5</td>\n",
       "      <td>29686.5</td>\n",
       "      <td>...</td>\n",
       "      <td>0</td>\n",
       "      <td>0</td>\n",
       "      <td>0</td>\n",
       "      <td>0</td>\n",
       "      <td>NaN</td>\n",
       "      <td>NaN</td>\n",
       "      <td>NaN</td>\n",
       "      <td>NaN</td>\n",
       "      <td>NaN</td>\n",
       "      <td>NaN</td>\n",
       "    </tr>\n",
       "    <tr>\n",
       "      <th>4</th>\n",
       "      <td>100007</td>\n",
       "      <td>0</td>\n",
       "      <td>Cash loans</td>\n",
       "      <td>M</td>\n",
       "      <td>N</td>\n",
       "      <td>Y</td>\n",
       "      <td>0</td>\n",
       "      <td>121500.0</td>\n",
       "      <td>513000.0</td>\n",
       "      <td>21865.5</td>\n",
       "      <td>...</td>\n",
       "      <td>0</td>\n",
       "      <td>0</td>\n",
       "      <td>0</td>\n",
       "      <td>0</td>\n",
       "      <td>0.0</td>\n",
       "      <td>0.0</td>\n",
       "      <td>0.0</td>\n",
       "      <td>0.0</td>\n",
       "      <td>0.0</td>\n",
       "      <td>0.0</td>\n",
       "    </tr>\n",
       "  </tbody>\n",
       "</table>\n",
       "<p>5 rows × 122 columns</p>\n",
       "</div>"
      ],
      "text/plain": [
       "   SK_ID_CURR  TARGET NAME_CONTRACT_TYPE CODE_GENDER FLAG_OWN_CAR  \\\n",
       "0      100002       1         Cash loans           M            N   \n",
       "1      100003       0         Cash loans           F            N   \n",
       "2      100004       0    Revolving loans           M            Y   \n",
       "3      100006       0         Cash loans           F            N   \n",
       "4      100007       0         Cash loans           M            N   \n",
       "\n",
       "  FLAG_OWN_REALTY  CNT_CHILDREN  AMT_INCOME_TOTAL  AMT_CREDIT  AMT_ANNUITY  \\\n",
       "0               Y             0          202500.0    406597.5      24700.5   \n",
       "1               N             0          270000.0   1293502.5      35698.5   \n",
       "2               Y             0           67500.0    135000.0       6750.0   \n",
       "3               Y             0          135000.0    312682.5      29686.5   \n",
       "4               Y             0          121500.0    513000.0      21865.5   \n",
       "\n",
       "              ...              FLAG_DOCUMENT_18 FLAG_DOCUMENT_19  \\\n",
       "0             ...                             0                0   \n",
       "1             ...                             0                0   \n",
       "2             ...                             0                0   \n",
       "3             ...                             0                0   \n",
       "4             ...                             0                0   \n",
       "\n",
       "  FLAG_DOCUMENT_20 FLAG_DOCUMENT_21 AMT_REQ_CREDIT_BUREAU_HOUR  \\\n",
       "0                0                0                        0.0   \n",
       "1                0                0                        0.0   \n",
       "2                0                0                        0.0   \n",
       "3                0                0                        NaN   \n",
       "4                0                0                        0.0   \n",
       "\n",
       "  AMT_REQ_CREDIT_BUREAU_DAY  AMT_REQ_CREDIT_BUREAU_WEEK  \\\n",
       "0                       0.0                         0.0   \n",
       "1                       0.0                         0.0   \n",
       "2                       0.0                         0.0   \n",
       "3                       NaN                         NaN   \n",
       "4                       0.0                         0.0   \n",
       "\n",
       "   AMT_REQ_CREDIT_BUREAU_MON  AMT_REQ_CREDIT_BUREAU_QRT  \\\n",
       "0                        0.0                        0.0   \n",
       "1                        0.0                        0.0   \n",
       "2                        0.0                        0.0   \n",
       "3                        NaN                        NaN   \n",
       "4                        0.0                        0.0   \n",
       "\n",
       "   AMT_REQ_CREDIT_BUREAU_YEAR  \n",
       "0                         1.0  \n",
       "1                         0.0  \n",
       "2                         0.0  \n",
       "3                         NaN  \n",
       "4                         0.0  \n",
       "\n",
       "[5 rows x 122 columns]"
      ]
     },
     "execution_count": 3,
     "metadata": {},
     "output_type": "execute_result"
    }
   ],
   "source": [
    "# 設定 data_path\n",
    "dir_data = './data/'\n",
    "# 讀取 csv 資料檔, 並觀察前幾筆資料 ( .head() )\n",
    "f_app = os.path.join(dir_data, 'application_train.csv')\n",
    "print('Path of read in data: %s' % (f_app))\n",
    "app_train = pd.read_csv(f_app)\n",
    "app_train.head()"
   ]
  },
  {
   "cell_type": "code",
   "execution_count": 4,
   "metadata": {},
   "outputs": [
    {
     "data": {
      "text/plain": [
       "count    307511.000000\n",
       "mean      63815.045904\n",
       "std      141275.766519\n",
       "min      -17912.000000\n",
       "25%       -2760.000000\n",
       "50%       -1213.000000\n",
       "75%        -289.000000\n",
       "max      365243.000000\n",
       "Name: DAYS_EMPLOYED, dtype: float64"
      ]
     },
     "execution_count": 4,
     "metadata": {},
     "output_type": "execute_result"
    }
   ],
   "source": [
    "# 觀察聘雇天數 'DAYS_EMPLOYED' 內的數值\n",
    "app_train['DAYS_EMPLOYED'].describe()"
   ]
  },
  {
   "cell_type": "code",
   "execution_count": 5,
   "metadata": {},
   "outputs": [
    {
     "data": {
      "text/plain": [
       "count    252137.000000\n",
       "mean      -2384.169325\n",
       "std        2338.360162\n",
       "min      -17912.000000\n",
       "25%       -3175.000000\n",
       "50%       -1648.000000\n",
       "75%        -767.000000\n",
       "max           0.000000\n",
       "Name: DAYS_EMPLOYED, dtype: float64"
      ]
     },
     "execution_count": 5,
     "metadata": {},
     "output_type": "execute_result"
    }
   ],
   "source": [
    "# 由於其他天數都是負值, 且聘僱日數不太可能是 365243 (大約 1000年), 算是異常數字 \n",
    "# 因此我們推斷這份資料中, DAYS_EMPLOYED 的欄位如果是 365243, 應該是對應到空缺值, 繪圖時應該予以忽略\n",
    "sub_df = app_train[app_train['DAYS_EMPLOYED'] != 365243]\n",
    "sub_df['DAYS_EMPLOYED'].describe()"
   ]
  },
  {
   "cell_type": "code",
   "execution_count": 6,
   "metadata": {},
   "outputs": [
    {
     "data": {
      "image/png": "[encoded data removed]",
      "text/plain": [
       "<Figure size 432x288 with 1 Axes>"
      ]
     },
     "metadata": {},
     "output_type": "display_data"
    },
    {
     "name": "stdout",
     "output_type": "stream",
     "text": [
      "Correlation: 0.0130\n"
     ]
    }
   ],
   "source": [
    "# 如果直接畫散布圖 - 看不出任何趨勢或形態\n",
    "plt.plot(sub_df['DAYS_EMPLOYED'] / (-365), sub_df['AMT_INCOME_TOTAL'], '.')\n",
    "plt.xlabel('Days of employed (year)')\n",
    "plt.ylabel('AMT_INCOME_TOTAL (raw)')\n",
    "plt.show()\n",
    "corr = np.corrcoef(sub_df['DAYS_EMPLOYED'] / (-365), sub_df['AMT_INCOME_TOTAL'])\n",
    "print(\"Correlation: %.4f\" % (corr[0][1]))"
   ]
  },
  {
   "cell_type": "code",
   "execution_count": 7,
   "metadata": {},
   "outputs": [
    {
     "data": {
      "image/png": "[encoded data removed]",
      "text/plain": [
       "<Figure size 432x288 with 1 Axes>"
      ]
     },
     "metadata": {},
     "output_type": "display_data"
    },
    {
     "name": "stdout",
     "output_type": "stream",
     "text": [
      "Correlation: 0.0380\n"
     ]
    }
   ],
   "source": [
    "# 通常可以對數值範圍較大的取 log \n",
    "plt.plot(sub_df['DAYS_EMPLOYED'] / (-365), np.log10(sub_df['AMT_INCOME_TOTAL'] ), '.')\n",
    "plt.xlabel('Days of employed (year)')\n",
    "plt.ylabel('AMT_INCOME_TOTAL (log-scale)')\n",
    "plt.show()\n",
    "corr = np.corrcoef(sub_df['DAYS_EMPLOYED'] / (-365), np.log10(sub_df['AMT_INCOME_TOTAL']))\n",
    "print(\"Correlation: %.4f\" % (corr[0][1]))\n",
    "# 發現雖然沒有相關，但是受雇越久的人，AMT_INCOME_TOTAL 的 variance 越小"
   ]
  },
  {
   "cell_type": "markdown",
   "metadata": {},
   "source": [
    "# [作業目標]\n",
    "請同學試著使用 pandas.corr() 這個函數來顯示相關係數並加以觀察結果<br><br>\n",
    "思考1 : 使用 pandas 有沒有什麼寫法, 可以顯示欄位中最大的幾筆, 以及最小幾筆呢? (Hint: 排序後列出前幾筆/後幾筆)<br><br>\n",
    "思考2 : 試著使用散佈圖, 顯示相關度最大/最小的特徵與目標值的關係, 如果圖形不明顯, 是否有調整的方法?<br><br>\n",
    "# [作業重點]\n",
    "綜合前幾單元的作法, 試試看是否能夠用繪圖顯示出特徵與目標的相關性<br><br>"
   ]
  },
  {
   "cell_type": "code",
   "execution_count": 8,
   "metadata": {},
   "outputs": [
    {
     "data": {
      "text/plain": [
       "(307511, 122)"
      ]
     },
     "execution_count": 8,
     "metadata": {},
     "output_type": "execute_result"
    }
   ],
   "source": [
    "app_train.shape"
   ]
  },
  {
   "cell_type": "markdown",
   "metadata": {},
   "source": [
    "[LabelEncoder複習](https://blog.csdn.net/quintind/article/details/79850455)\n",
    "是用來對分類型特徵值進行編碼，即對不連續的數值或文本進行編碼。其中包含以下常用方法：\n",
    "- fit(y) ：fit可看做一本空字典，y可看作要塞到字典中的詞。 \n",
    "- fit_transform(y)：相當於先進行fit再進行transform，即把y塞到字典中去以後再進行transform得到索引值。 \n",
    "- inverse_transform(y)：根據索引值y獲得原始資料。 \n",
    "- transform(y) ：將y轉變成索引值。"
   ]
  },
  {
   "cell_type": "code",
   "execution_count": 10,
   "metadata": {},
   "outputs": [
    {
     "name": "stdout",
     "output_type": "stream",
     "text": [
      "(307511, 122)\n"
     ]
    },
    {
     "data": {
      "text/html": [
       "<div>\n",
       "<style scoped>\n",
       "    .dataframe tbody tr th:only-of-type {\n",
       "        vertical-align: middle;\n",
       "    }\n",
       "\n",
       "    .dataframe tbody tr th {\n",
       "        vertical-align: top;\n",
       "    }\n",
       "\n",
       "    .dataframe thead th {\n",
       "        text-align: right;\n",
       "    }\n",
       "</style>\n",
       "<table border=\"1\" class=\"dataframe\">\n",
       "  <thead>\n",
       "    <tr style=\"text-align: right;\">\n",
       "      <th></th>\n",
       "      <th>SK_ID_CURR</th>\n",
       "      <th>TARGET</th>\n",
       "      <th>NAME_CONTRACT_TYPE</th>\n",
       "      <th>CODE_GENDER</th>\n",
       "      <th>FLAG_OWN_CAR</th>\n",
       "      <th>FLAG_OWN_REALTY</th>\n",
       "      <th>CNT_CHILDREN</th>\n",
       "      <th>AMT_INCOME_TOTAL</th>\n",
       "      <th>AMT_CREDIT</th>\n",
       "      <th>AMT_ANNUITY</th>\n",
       "      <th>...</th>\n",
       "      <th>FLAG_DOCUMENT_18</th>\n",
       "      <th>FLAG_DOCUMENT_19</th>\n",
       "      <th>FLAG_DOCUMENT_20</th>\n",
       "      <th>FLAG_DOCUMENT_21</th>\n",
       "      <th>AMT_REQ_CREDIT_BUREAU_HOUR</th>\n",
       "      <th>AMT_REQ_CREDIT_BUREAU_DAY</th>\n",
       "      <th>AMT_REQ_CREDIT_BUREAU_WEEK</th>\n",
       "      <th>AMT_REQ_CREDIT_BUREAU_MON</th>\n",
       "      <th>AMT_REQ_CREDIT_BUREAU_QRT</th>\n",
       "      <th>AMT_REQ_CREDIT_BUREAU_YEAR</th>\n",
       "    </tr>\n",
       "  </thead>\n",
       "  <tbody>\n",
       "    <tr>\n",
       "      <th>0</th>\n",
       "      <td>100002</td>\n",
       "      <td>1</td>\n",
       "      <td>0</td>\n",
       "      <td>M</td>\n",
       "      <td>0</td>\n",
       "      <td>1</td>\n",
       "      <td>0</td>\n",
       "      <td>202500.0</td>\n",
       "      <td>406597.5</td>\n",
       "      <td>24700.5</td>\n",
       "      <td>...</td>\n",
       "      <td>0</td>\n",
       "      <td>0</td>\n",
       "      <td>0</td>\n",
       "      <td>0</td>\n",
       "      <td>0.0</td>\n",
       "      <td>0.0</td>\n",
       "      <td>0.0</td>\n",
       "      <td>0.0</td>\n",
       "      <td>0.0</td>\n",
       "      <td>1.0</td>\n",
       "    </tr>\n",
       "    <tr>\n",
       "      <th>1</th>\n",
       "      <td>100003</td>\n",
       "      <td>0</td>\n",
       "      <td>0</td>\n",
       "      <td>F</td>\n",
       "      <td>0</td>\n",
       "      <td>0</td>\n",
       "      <td>0</td>\n",
       "      <td>270000.0</td>\n",
       "      <td>1293502.5</td>\n",
       "      <td>35698.5</td>\n",
       "      <td>...</td>\n",
       "      <td>0</td>\n",
       "      <td>0</td>\n",
       "      <td>0</td>\n",
       "      <td>0</td>\n",
       "      <td>0.0</td>\n",
       "      <td>0.0</td>\n",
       "      <td>0.0</td>\n",
       "      <td>0.0</td>\n",
       "      <td>0.0</td>\n",
       "      <td>0.0</td>\n",
       "    </tr>\n",
       "    <tr>\n",
       "      <th>2</th>\n",
       "      <td>100004</td>\n",
       "      <td>0</td>\n",
       "      <td>1</td>\n",
       "      <td>M</td>\n",
       "      <td>1</td>\n",
       "      <td>1</td>\n",
       "      <td>0</td>\n",
       "      <td>67500.0</td>\n",
       "      <td>135000.0</td>\n",
       "      <td>6750.0</td>\n",
       "      <td>...</td>\n",
       "      <td>0</td>\n",
       "      <td>0</td>\n",
       "      <td>0</td>\n",
       "      <td>0</td>\n",
       "      <td>0.0</td>\n",
       "      <td>0.0</td>\n",
       "      <td>0.0</td>\n",
       "      <td>0.0</td>\n",
       "      <td>0.0</td>\n",
       "      <td>0.0</td>\n",
       "    </tr>\n",
       "    <tr>\n",
       "      <th>3</th>\n",
       "      <td>100006</td>\n",
       "      <td>0</td>\n",
       "      <td>0</td>\n",
       "      <td>F</td>\n",
       "      <td>0</td>\n",
       "      <td>1</td>\n",
       "      <td>0</td>\n",
       "      <td>135000.0</td>\n",
       "      <td>312682.5</td>\n",
       "      <td>29686.5</td>\n",
       "      <td>...</td>\n",
       "      <td>0</td>\n",
       "      <td>0</td>\n",
       "      <td>0</td>\n",
       "      <td>0</td>\n",
       "      <td>NaN</td>\n",
       "      <td>NaN</td>\n",
       "      <td>NaN</td>\n",
       "      <td>NaN</td>\n",
       "      <td>NaN</td>\n",
       "      <td>NaN</td>\n",
       "    </tr>\n",
       "    <tr>\n",
       "      <th>4</th>\n",
       "      <td>100007</td>\n",
       "      <td>0</td>\n",
       "      <td>0</td>\n",
       "      <td>M</td>\n",
       "      <td>0</td>\n",
       "      <td>1</td>\n",
       "      <td>0</td>\n",
       "      <td>121500.0</td>\n",
       "      <td>513000.0</td>\n",
       "      <td>21865.5</td>\n",
       "      <td>...</td>\n",
       "      <td>0</td>\n",
       "      <td>0</td>\n",
       "      <td>0</td>\n",
       "      <td>0</td>\n",
       "      <td>0.0</td>\n",
       "      <td>0.0</td>\n",
       "      <td>0.0</td>\n",
       "      <td>0.0</td>\n",
       "      <td>0.0</td>\n",
       "      <td>0.0</td>\n",
       "    </tr>\n",
       "  </tbody>\n",
       "</table>\n",
       "<p>5 rows × 122 columns</p>\n",
       "</div>"
      ],
      "text/plain": [
       "   SK_ID_CURR  TARGET  NAME_CONTRACT_TYPE CODE_GENDER  FLAG_OWN_CAR  \\\n",
       "0      100002       1                   0           M             0   \n",
       "1      100003       0                   0           F             0   \n",
       "2      100004       0                   1           M             1   \n",
       "3      100006       0                   0           F             0   \n",
       "4      100007       0                   0           M             0   \n",
       "\n",
       "   FLAG_OWN_REALTY  CNT_CHILDREN  AMT_INCOME_TOTAL  AMT_CREDIT  AMT_ANNUITY  \\\n",
       "0                1             0          202500.0    406597.5      24700.5   \n",
       "1                0             0          270000.0   1293502.5      35698.5   \n",
       "2                1             0           67500.0    135000.0       6750.0   \n",
       "3                1             0          135000.0    312682.5      29686.5   \n",
       "4                1             0          121500.0    513000.0      21865.5   \n",
       "\n",
       "              ...              FLAG_DOCUMENT_18 FLAG_DOCUMENT_19  \\\n",
       "0             ...                             0                0   \n",
       "1             ...                             0                0   \n",
       "2             ...                             0                0   \n",
       "3             ...                             0                0   \n",
       "4             ...                             0                0   \n",
       "\n",
       "  FLAG_DOCUMENT_20 FLAG_DOCUMENT_21 AMT_REQ_CREDIT_BUREAU_HOUR  \\\n",
       "0                0                0                        0.0   \n",
       "1                0                0                        0.0   \n",
       "2                0                0                        0.0   \n",
       "3                0                0                        NaN   \n",
       "4                0                0                        0.0   \n",
       "\n",
       "  AMT_REQ_CREDIT_BUREAU_DAY  AMT_REQ_CREDIT_BUREAU_WEEK  \\\n",
       "0                       0.0                         0.0   \n",
       "1                       0.0                         0.0   \n",
       "2                       0.0                         0.0   \n",
       "3                       NaN                         NaN   \n",
       "4                       0.0                         0.0   \n",
       "\n",
       "   AMT_REQ_CREDIT_BUREAU_MON  AMT_REQ_CREDIT_BUREAU_QRT  \\\n",
       "0                        0.0                        0.0   \n",
       "1                        0.0                        0.0   \n",
       "2                        0.0                        0.0   \n",
       "3                        NaN                        NaN   \n",
       "4                        0.0                        0.0   \n",
       "\n",
       "   AMT_REQ_CREDIT_BUREAU_YEAR  \n",
       "0                         1.0  \n",
       "1                         0.0  \n",
       "2                         0.0  \n",
       "3                         NaN  \n",
       "4                         0.0  \n",
       "\n",
       "[5 rows x 122 columns]"
      ]
     },
     "execution_count": 10,
     "metadata": {},
     "output_type": "execute_result"
    }
   ],
   "source": [
    "from sklearn.preprocessing import LabelEncoder\n",
    "le = LabelEncoder()\n",
    "# 檢查每一個 column\n",
    "for col in app_train:\n",
    "    if app_train[col].dtype == 'object':\n",
    "        # 如果只有兩種值的類別型欄位\n",
    "        if len(list(app_train[col].unique())) <= 2:\n",
    "            # 就做 Label Encoder, 以加入相關係數檢查\n",
    "            app_train[col] = le.fit_transform(app_train[col])            \n",
    "print(app_train.shape)\n",
    "app_train.head()"
   ]
  },
  {
   "cell_type": "code",
   "execution_count": 12,
   "metadata": {},
   "outputs": [],
   "source": [
    "# 受雇日數為異常值的資料, 另外設一個欄位記錄, 並將異常的日數轉成空值 (np.nan)\n",
    "#app_train['DAYS_EMPLOYED_ANOM'] # true/false 結果\n",
    "app_train['DAYS_EMPLOYED_ANOM'] = app_train[\"DAYS_EMPLOYED\"] == 365243\n",
    "app_train['DAYS_EMPLOYED'].replace({365243: np.nan}, inplace = True)\n",
    "\n",
    "# 出生日數 (DAYS_BIRTH) 取絕對值 \n",
    "app_train['DAYS_BIRTH'] = abs(app_train['DAYS_BIRTH'])"
   ]
  },
  {
   "cell_type": "markdown",
   "metadata": {},
   "source": [
    "## 相關係數\n",
    "一樣，pandas 很貼心地讓我們可以非常容易計算相關係數"
   ]
  },
  {
   "cell_type": "code",
   "execution_count": 13,
   "metadata": {},
   "outputs": [
    {
     "name": "stdout",
     "output_type": "stream",
     "text": [
      "                               TARGET\n",
      "SK_ID_CURR                  -0.002108\n",
      "TARGET                       1.000000\n",
      "NAME_CONTRACT_TYPE          -0.030896\n",
      "FLAG_OWN_CAR                -0.021851\n",
      "FLAG_OWN_REALTY             -0.006148\n",
      "CNT_CHILDREN                 0.019187\n",
      "AMT_INCOME_TOTAL            -0.003982\n",
      "AMT_CREDIT                  -0.030369\n",
      "AMT_ANNUITY                 -0.012817\n",
      "AMT_GOODS_PRICE             -0.039645\n",
      "REGION_POPULATION_RELATIVE  -0.037227\n",
      "DAYS_BIRTH                  -0.078239\n",
      "DAYS_EMPLOYED                0.074958\n",
      "DAYS_REGISTRATION            0.041975\n",
      "DAYS_ID_PUBLISH              0.051457\n",
      "OWN_CAR_AGE                  0.037612\n",
      "FLAG_MOBIL                   0.000534\n",
      "FLAG_EMP_PHONE               0.045982\n",
      "FLAG_WORK_PHONE              0.028524\n",
      "FLAG_CONT_MOBILE             0.000370\n",
      "FLAG_PHONE                  -0.023806\n",
      "FLAG_EMAIL                  -0.001758\n",
      "CNT_FAM_MEMBERS              0.009308\n",
      "REGION_RATING_CLIENT         0.058899\n",
      "REGION_RATING_CLIENT_W_CITY  0.060893\n",
      "HOUR_APPR_PROCESS_START     -0.024166\n",
      "REG_REGION_NOT_LIVE_REGION   0.005576\n",
      "REG_REGION_NOT_WORK_REGION   0.006942\n",
      "LIVE_REGION_NOT_WORK_REGION  0.002819\n",
      "REG_CITY_NOT_LIVE_CITY       0.044395\n",
      "...                               ...\n",
      "OBS_60_CNT_SOCIAL_CIRCLE     0.009022\n",
      "DEF_60_CNT_SOCIAL_CIRCLE     0.031276\n",
      "DAYS_LAST_PHONE_CHANGE       0.055218\n",
      "FLAG_DOCUMENT_2              0.005417\n",
      "FLAG_DOCUMENT_3              0.044346\n",
      "FLAG_DOCUMENT_4             -0.002672\n",
      "FLAG_DOCUMENT_5             -0.000316\n",
      "FLAG_DOCUMENT_6             -0.028602\n",
      "FLAG_DOCUMENT_7             -0.001520\n",
      "FLAG_DOCUMENT_8             -0.008040\n",
      "FLAG_DOCUMENT_9             -0.004352\n",
      "FLAG_DOCUMENT_10            -0.001414\n",
      "FLAG_DOCUMENT_11            -0.004229\n",
      "FLAG_DOCUMENT_12            -0.000756\n",
      "FLAG_DOCUMENT_13            -0.011583\n",
      "FLAG_DOCUMENT_14            -0.009464\n",
      "FLAG_DOCUMENT_15            -0.006536\n",
      "FLAG_DOCUMENT_16            -0.011615\n",
      "FLAG_DOCUMENT_17            -0.003378\n",
      "FLAG_DOCUMENT_18            -0.007952\n",
      "FLAG_DOCUMENT_19            -0.001358\n",
      "FLAG_DOCUMENT_20             0.000215\n",
      "FLAG_DOCUMENT_21             0.003709\n",
      "AMT_REQ_CREDIT_BUREAU_HOUR   0.000930\n",
      "AMT_REQ_CREDIT_BUREAU_DAY    0.002704\n",
      "AMT_REQ_CREDIT_BUREAU_WEEK   0.000788\n",
      "AMT_REQ_CREDIT_BUREAU_MON   -0.012462\n",
      "AMT_REQ_CREDIT_BUREAU_QRT   -0.002022\n",
      "AMT_REQ_CREDIT_BUREAU_YEAR   0.019930\n",
      "DAYS_EMPLOYED_ANOM                NaN\n",
      "\n",
      "[110 rows x 1 columns]\n"
     ]
    }
   ],
   "source": [
    "# 觀察所有欄位與 Target 的相關係數\n",
    "df_corr_Target = pd.DataFrame(app_train.corr()['TARGET']) #app_train.corr()['TARGET'] 是一個series\n",
    "print(df_corr_Target)"
   ]
  },
  {
   "cell_type": "markdown",
   "metadata": {},
   "source": [
    "# 練習時間\n",
    "列出目標 (TARGET) 與所有欄位之間相關係數，數值最大以及最小各 15 個<br>\n",
    "\n",
    "通過相關係數的結果觀察有興趣的欄位與 TARGET 或其他欄位的相關係數，並嘗試找出有趣的訊息<br>\n",
    "\n",
    "最好的方式當然是畫圖，舉例來說，我們知道 EXT_SOURCE_3 這個欄位和 TARGET 之間的相關係數是 -0.178919<br>\n",
    "\n",
    "那我們可以 EXT_SOURCE_3 為 x 軸， TARGET 為 y 軸，把資料給畫出來<br>"
   ]
  },
  {
   "cell_type": "code",
   "execution_count": 14,
   "metadata": {},
   "outputs": [
    {
     "name": "stdout",
     "output_type": "stream",
     "text": [
      "TARGET                         1.000000\n",
      "EXT_SOURCE_3                  -0.178919\n",
      "EXT_SOURCE_2                  -0.160472\n",
      "EXT_SOURCE_1                  -0.155317\n",
      "DAYS_BIRTH                    -0.078239\n",
      "DAYS_EMPLOYED                  0.074958\n",
      "REGION_RATING_CLIENT_W_CITY    0.060893\n",
      "REGION_RATING_CLIENT           0.058899\n",
      "DAYS_LAST_PHONE_CHANGE         0.055218\n",
      "DAYS_ID_PUBLISH                0.051457\n",
      "REG_CITY_NOT_WORK_CITY         0.050994\n",
      "FLAG_EMP_PHONE                 0.045982\n",
      "REG_CITY_NOT_LIVE_CITY         0.044395\n",
      "FLAG_DOCUMENT_3                0.044346\n",
      "FLOORSMAX_AVG                 -0.044003\n",
      "Name: TARGET, dtype: float64\n",
      "SK_ID_CURR                   -0.002108\n",
      "AMT_REQ_CREDIT_BUREAU_QRT    -0.002022\n",
      "FLAG_EMAIL                   -0.001758\n",
      "NONLIVINGAPARTMENTS_MODE     -0.001557\n",
      "FLAG_DOCUMENT_7              -0.001520\n",
      "FLAG_DOCUMENT_10             -0.001414\n",
      "FLAG_DOCUMENT_19             -0.001358\n",
      "AMT_REQ_CREDIT_BUREAU_HOUR    0.000930\n",
      "AMT_REQ_CREDIT_BUREAU_WEEK    0.000788\n",
      "FLAG_DOCUMENT_12             -0.000756\n",
      "FLAG_MOBIL                    0.000534\n",
      "FLAG_CONT_MOBILE              0.000370\n",
      "FLAG_DOCUMENT_5              -0.000316\n",
      "FLAG_DOCUMENT_20              0.000215\n",
      "DAYS_EMPLOYED_ANOM                 NaN\n",
      "Name: TARGET, dtype: float64\n"
     ]
    }
   ],
   "source": [
    "# 篩出相關係數最強與最弱的前15個欄位\n",
    "df_corr_Target['abs_target'] = abs(df_corr_Target['TARGET']) # 加一個絕對值後的欄位\n",
    "df_corr_Target_sorted = df_corr_Target.sort_values('abs_target', ascending = False)  # 依照絕對值做排序\n",
    "print(df_corr_Target_sorted['TARGET'].head(15)) \n",
    "print(df_corr_Target_sorted['TARGET'].tail(15))"
   ]
  },
  {
   "cell_type": "markdown",
   "metadata": {},
   "source": [
    "### 觀察相關性最強的欄位的分佈\n",
    "\n",
    "舉例來說，我們知道 EXT_SOURCE_3 這個欄位和 TARGET 之間的相關係數是 -0.178919 <br>\n",
    "那我們可以 EXT_SOURCE_3 為 x 軸， TARGET 為 y 軸，把資料給畫出來"
   ]
  },
  {
   "cell_type": "code",
   "execution_count": 15,
   "metadata": {},
   "outputs": [
    {
     "data": {
      "image/png": "[encoded data removed]",
      "text/plain": [
       "<Figure size 432x288 with 1 Axes>"
      ]
     },
     "metadata": {},
     "output_type": "display_data"
    }
   ],
   "source": [
    "app_train.boxplot(column = 'EXT_SOURCE_3', by = 'TARGET')\n",
    "plt.suptitle('') # turn off subtitle\n",
    "plt.show()"
   ]
  },
  {
   "cell_type": "code",
   "execution_count": 16,
   "metadata": {},
   "outputs": [
    {
     "name": "stdout",
     "output_type": "stream",
     "text": [
      "<class 'pandas.core.frame.DataFrame'>\n",
      "Index: 110 entries, SK_ID_CURR to DAYS_EMPLOYED_ANOM\n",
      "Columns: 110 entries, SK_ID_CURR to DAYS_EMPLOYED_ANOM\n",
      "dtypes: float64(110)\n",
      "memory usage: 95.4+ KB\n",
      "                    SK_ID_CURR    TARGET  NAME_CONTRACT_TYPE  FLAG_OWN_CAR  \\\n",
      "SK_ID_CURR            1.000000 -0.002108            0.001654      0.001216   \n",
      "TARGET               -0.002108  1.000000           -0.030896     -0.021851   \n",
      "NAME_CONTRACT_TYPE    0.001654 -0.030896            1.000000      0.004022   \n",
      "FLAG_OWN_CAR          0.001216 -0.021851            0.004022      1.000000   \n",
      "FLAG_OWN_REALTY       0.000703 -0.006148            0.067177     -0.002817   \n",
      "\n",
      "                    FLAG_OWN_REALTY  CNT_CHILDREN  AMT_INCOME_TOTAL  \\\n",
      "SK_ID_CURR                 0.000703     -0.001129         -0.001820   \n",
      "TARGET                    -0.006148      0.019187         -0.003982   \n",
      "NAME_CONTRACT_TYPE         0.067177      0.029998         -0.003531   \n",
      "FLAG_OWN_CAR              -0.002817      0.102023          0.083383   \n",
      "FLAG_OWN_REALTY            1.000000     -0.002366          0.002934   \n",
      "\n",
      "                    AMT_CREDIT  AMT_ANNUITY  AMT_GOODS_PRICE  \\\n",
      "SK_ID_CURR           -0.000343    -0.000433        -0.000232   \n",
      "TARGET               -0.030369    -0.012817        -0.039645   \n",
      "NAME_CONTRACT_TYPE   -0.221648    -0.241544        -0.185850   \n",
      "FLAG_OWN_CAR          0.116225     0.141588         0.120310   \n",
      "FLAG_OWN_REALTY      -0.039270    -0.005225        -0.045537   \n",
      "\n",
      "                           ...          FLAG_DOCUMENT_19  FLAG_DOCUMENT_20  \\\n",
      "SK_ID_CURR                 ...                  0.000167          0.001073   \n",
      "TARGET                     ...                 -0.001358          0.000215   \n",
      "NAME_CONTRACT_TYPE         ...                 -0.005190         -0.007308   \n",
      "FLAG_OWN_CAR               ...                  0.002184          0.007299   \n",
      "FLAG_OWN_REALTY            ...                 -0.019364         -0.025130   \n",
      "\n",
      "                    FLAG_DOCUMENT_21  AMT_REQ_CREDIT_BUREAU_HOUR  \\\n",
      "SK_ID_CURR                  0.000282                   -0.002672   \n",
      "TARGET                      0.003709                    0.000930   \n",
      "NAME_CONTRACT_TYPE          0.055821                    0.000453   \n",
      "FLAG_OWN_CAR                0.006741                    0.002669   \n",
      "FLAG_OWN_REALTY            -0.000173                   -0.004120   \n",
      "\n",
      "                    AMT_REQ_CREDIT_BUREAU_DAY  AMT_REQ_CREDIT_BUREAU_WEEK  \\\n",
      "SK_ID_CURR                          -0.002193                    0.002099   \n",
      "TARGET                               0.002704                    0.000788   \n",
      "NAME_CONTRACT_TYPE                  -0.005118                   -0.015296   \n",
      "FLAG_OWN_CAR                         0.000572                    0.000242   \n",
      "FLAG_OWN_REALTY                     -0.009267                    0.007474   \n",
      "\n",
      "                    AMT_REQ_CREDIT_BUREAU_MON  AMT_REQ_CREDIT_BUREAU_QRT  \\\n",
      "SK_ID_CURR                           0.000485                   0.001025   \n",
      "TARGET                              -0.012462                  -0.002022   \n",
      "NAME_CONTRACT_TYPE                  -0.014369                  -0.021962   \n",
      "FLAG_OWN_CAR                         0.020477                  -0.009936   \n",
      "FLAG_OWN_REALTY                     -0.004480                   0.015451   \n",
      "\n",
      "                    AMT_REQ_CREDIT_BUREAU_YEAR  DAYS_EMPLOYED_ANOM  \n",
      "SK_ID_CURR                            0.004659                 NaN  \n",
      "TARGET                                0.019930                 NaN  \n",
      "NAME_CONTRACT_TYPE                   -0.052494                 NaN  \n",
      "FLAG_OWN_CAR                         -0.036345                 NaN  \n",
      "FLAG_OWN_REALTY                       0.067451                 NaN  \n",
      "\n",
      "[5 rows x 110 columns]\n"
     ]
    }
   ],
   "source": [
    "# 觀察兩兩變數間的相關性\n",
    "corr_mat = app_train.corr()\n",
    "corr_mat.shape[1]\n",
    "corr_mat.info()\n",
    "print(corr_mat.head())"
   ]
  },
  {
   "cell_type": "code",
   "execution_count": 17,
   "metadata": {},
   "outputs": [
    {
     "name": "stdout",
     "output_type": "stream",
     "text": [
      "<class 'pandas.core.frame.DataFrame'>\n",
      "Index: 110 entries, SK_ID_CURR to DAYS_EMPLOYED_ANOM\n",
      "Columns: 110 entries, SK_ID_CURR to DAYS_EMPLOYED_ANOM\n",
      "dtypes: float64(110)\n",
      "memory usage: 95.4+ KB\n",
      "('OBS_30_CNT_SOCIAL_CIRCLE', 'OBS_60_CNT_SOCIAL_CIRCLE')\n"
     ]
    }
   ],
   "source": [
    "# 每個欄位與其他欄位相關係數最大的值\n",
    "abs_corr = corr_mat.abs()\n",
    "abs_corr.info()\n",
    "s = abs_corr.unstack()\n",
    "so = s.sort_values(ascending = False)\n",
    "so = so[corr_mat.shape[1]+1:] # 去掉corr=1 (因為排序後，corr = 1的總共有欄位數個，故保留從第欄位數+1個)\n",
    "max_pair = so.idxmax()  # idxmax 找出最大值的位置\n",
    "print(max_pair)"
   ]
  },
  {
   "cell_type": "code",
   "execution_count": 18,
   "metadata": {},
   "outputs": [
    {
     "data": {
      "text/plain": [
       "AMT_CREDIT         1.000000\n",
       "AMT_GOODS_PRICE    0.986968\n",
       "Name: AMT_CREDIT, dtype: float64"
      ]
     },
     "execution_count": 18,
     "metadata": {},
     "output_type": "execute_result"
    }
   ],
   "source": [
    "# 另一種方法\n",
    "corr_mat[corr_mat!=1].abs().max().sort_values(ascending = False).head(30)\n",
    "corr_mat['DAYS_EMPLOYED_ANOM'][corr_mat['DAYS_EMPLOYED_ANOM']<-0.9998]\n",
    "corr_mat['AMT_CREDIT'][corr_mat['AMT_CREDIT']>0.98]"
   ]
  },
  {
   "cell_type": "code",
   "execution_count": 19,
   "metadata": {},
   "outputs": [
    {
     "data": {
      "image/png": "[encoded data removed]",
      "text/plain": [
       "<Figure size 432x288 with 1 Axes>"
      ]
     },
     "metadata": {},
     "output_type": "display_data"
    }
   ],
   "source": [
    "# plot \n",
    "plt.plot(app_train['AMT_CREDIT'],app_train['AMT_GOODS_PRICE'], '.')\n",
    "plt.xlabel('AMT_CREDIT')\n",
    "plt.ylabel('AMT_GOODS_PRICE')\n",
    "plt.show()"
   ]
  },
  {
   "cell_type": "code",
   "execution_count": 20,
   "metadata": {},
   "outputs": [
    {
     "data": {
      "image/png": "[encoded data removed]",
      "text/plain": [
       "<Figure size 432x288 with 1 Axes>"
      ]
     },
     "metadata": {},
     "output_type": "display_data"
    }
   ],
   "source": [
    "# plot \n",
    "plt.plot(app_train['DAYS_EMPLOYED_ANOM'],app_train['FLAG_EMP_PHONE'], '.')\n",
    "plt.xlabel('DAYS_EMPLOYED_ANOM')\n",
    "plt.ylabel('FLAG_EMP_PHONE')\n",
    "plt.show()"
   ]
  },
  {
   "cell_type": "code",
   "execution_count": 21,
   "metadata": {},
   "outputs": [
    {
     "data": {
      "image/png": "[encoded data removed]",
      "text/plain": [
       "<Figure size 432x288 with 1 Axes>"
      ]
     },
     "metadata": {},
     "output_type": "display_data"
    }
   ],
   "source": [
    "app_train.boxplot(column = 'DAYS_EMPLOYED_ANOM', by = 'FLAG_EMP_PHONE')\n",
    "plt.suptitle('') # turn off subtitle\n",
    "plt.show()"
   ]
  },
  {
   "cell_type": "code",
   "execution_count": 23,
   "metadata": {},
   "outputs": [
    {
     "data": {
      "text/plain": [
       "AMT_CREDIT          0.986030\n",
       "AMT_GOODS_PRICE     0.986030\n",
       "AMT_INCOME_TOTAL    0.439771\n",
       "DAYS_EMPLOYED       0.141575\n",
       "OWN_CAR_AGE         0.245352\n",
       "dtype: float64"
      ]
     },
     "execution_count": 23,
     "metadata": {},
     "output_type": "execute_result"
    }
   ],
   "source": [
    "# example of corr\n",
    "sub_df = app_train.loc[0:1000, ['AMT_CREDIT','AMT_GOODS_PRICE','AMT_INCOME_TOTAL','DAYS_EMPLOYED','OWN_CAR_AGE']]\n",
    "sub_corr = sub_df.corr()\n",
    "abs(sub_corr[sub_corr!=1]).max()  # 相關係數取決對職後最大的"
   ]
  },
  {
   "cell_type": "code",
   "execution_count": 24,
   "metadata": {},
   "outputs": [
    {
     "data": {
      "text/html": [
       "<div>\n",
       "<style scoped>\n",
       "    .dataframe tbody tr th:only-of-type {\n",
       "        vertical-align: middle;\n",
       "    }\n",
       "\n",
       "    .dataframe tbody tr th {\n",
       "        vertical-align: top;\n",
       "    }\n",
       "\n",
       "    .dataframe thead th {\n",
       "        text-align: right;\n",
       "    }\n",
       "</style>\n",
       "<table border=\"1\" class=\"dataframe\">\n",
       "  <thead>\n",
       "    <tr style=\"text-align: right;\">\n",
       "      <th></th>\n",
       "      <th>AMT_CREDIT</th>\n",
       "      <th>AMT_GOODS_PRICE</th>\n",
       "      <th>AMT_INCOME_TOTAL</th>\n",
       "      <th>DAYS_EMPLOYED</th>\n",
       "      <th>OWN_CAR_AGE</th>\n",
       "    </tr>\n",
       "  </thead>\n",
       "  <tbody>\n",
       "    <tr>\n",
       "      <th>AMT_CREDIT</th>\n",
       "      <td>1.00000</td>\n",
       "      <td>0.98603</td>\n",
       "      <td>0.429200</td>\n",
       "      <td>-0.136273</td>\n",
       "      <td>-0.126970</td>\n",
       "    </tr>\n",
       "    <tr>\n",
       "      <th>AMT_GOODS_PRICE</th>\n",
       "      <td>0.98603</td>\n",
       "      <td>1.00000</td>\n",
       "      <td>0.439771</td>\n",
       "      <td>-0.141575</td>\n",
       "      <td>-0.135576</td>\n",
       "    </tr>\n",
       "  </tbody>\n",
       "</table>\n",
       "</div>"
      ],
      "text/plain": [
       "                 AMT_CREDIT  AMT_GOODS_PRICE  AMT_INCOME_TOTAL  DAYS_EMPLOYED  \\\n",
       "AMT_CREDIT          1.00000          0.98603          0.429200      -0.136273   \n",
       "AMT_GOODS_PRICE     0.98603          1.00000          0.439771      -0.141575   \n",
       "\n",
       "                 OWN_CAR_AGE  \n",
       "AMT_CREDIT         -0.126970  \n",
       "AMT_GOODS_PRICE    -0.135576  "
      ]
     },
     "execution_count": 24,
     "metadata": {},
     "output_type": "execute_result"
    }
   ],
   "source": [
    "sub_corr[sub_corr['AMT_CREDIT']>0.98]  "
   ]
  },
  {
   "cell_type": "code",
   "execution_count": 25,
   "metadata": {},
   "outputs": [
    {
     "data": {
      "text/plain": [
       "AMT_CREDIT         1.00000\n",
       "AMT_GOODS_PRICE    0.98603\n",
       "Name: AMT_CREDIT, dtype: float64"
      ]
     },
     "execution_count": 25,
     "metadata": {},
     "output_type": "execute_result"
    }
   ],
   "source": [
    "sub_corr['AMT_CREDIT'][sub_corr['AMT_CREDIT']>0.98] # 列出AMT_CREDIT(column)這個欄位數值大於0.98"
   ]
  },
  {
   "cell_type": "markdown",
   "metadata": {},
   "source": [
    "## 找出相關係數最高的兩個變數"
   ]
  },
  {
   "cell_type": "code",
   "execution_count": 26,
   "metadata": {},
   "outputs": [
    {
     "data": {
      "text/html": [
       "<div>\n",
       "<style scoped>\n",
       "    .dataframe tbody tr th:only-of-type {\n",
       "        vertical-align: middle;\n",
       "    }\n",
       "\n",
       "    .dataframe tbody tr th {\n",
       "        vertical-align: top;\n",
       "    }\n",
       "\n",
       "    .dataframe thead th {\n",
       "        text-align: right;\n",
       "    }\n",
       "</style>\n",
       "<table border=\"1\" class=\"dataframe\">\n",
       "  <thead>\n",
       "    <tr style=\"text-align: right;\">\n",
       "      <th></th>\n",
       "      <th>x1</th>\n",
       "      <th>x2</th>\n",
       "      <th>x3</th>\n",
       "    </tr>\n",
       "  </thead>\n",
       "  <tbody>\n",
       "    <tr>\n",
       "      <th>0</th>\n",
       "      <td>0.357539</td>\n",
       "      <td>0.586427</td>\n",
       "      <td>0.983085</td>\n",
       "    </tr>\n",
       "    <tr>\n",
       "      <th>1</th>\n",
       "      <td>0.586972</td>\n",
       "      <td>0.293538</td>\n",
       "      <td>0.250725</td>\n",
       "    </tr>\n",
       "    <tr>\n",
       "      <th>2</th>\n",
       "      <td>0.577476</td>\n",
       "      <td>0.021291</td>\n",
       "      <td>0.494566</td>\n",
       "    </tr>\n",
       "    <tr>\n",
       "      <th>3</th>\n",
       "      <td>0.007354</td>\n",
       "      <td>0.649026</td>\n",
       "      <td>0.884479</td>\n",
       "    </tr>\n",
       "    <tr>\n",
       "      <th>4</th>\n",
       "      <td>0.777114</td>\n",
       "      <td>0.310262</td>\n",
       "      <td>0.169397</td>\n",
       "    </tr>\n",
       "  </tbody>\n",
       "</table>\n",
       "</div>"
      ],
      "text/plain": [
       "         x1        x2        x3\n",
       "0  0.357539  0.586427  0.983085\n",
       "1  0.586972  0.293538  0.250725\n",
       "2  0.577476  0.021291  0.494566\n",
       "3  0.007354  0.649026  0.884479\n",
       "4  0.777114  0.310262  0.169397"
      ]
     },
     "execution_count": 26,
     "metadata": {},
     "output_type": "execute_result"
    }
   ],
   "source": [
    "## example by chibao\n",
    "df = pd.DataFrame(\n",
    "        {'x1':[i[0] for i in np.random.rand(10,1).tolist()],\n",
    "         'x2':[i[0] for i in np.random.rand(10,1).tolist()],\n",
    "         'x3':[i[0] for i in np.random.rand(10,1).tolist()]              \n",
    "        })\n",
    "    \n",
    "df.head()"
   ]
  },
  {
   "cell_type": "code",
   "execution_count": 27,
   "metadata": {},
   "outputs": [
    {
     "name": "stdout",
     "output_type": "stream",
     "text": [
      "          x1        x2        x3\n",
      "x1  1.000000 -0.165307 -0.439190\n",
      "x2 -0.165307  1.000000  0.438703\n",
      "x3 -0.439190  0.438703  1.000000\n",
      "          x1        x2        x3\n",
      "x1  1.000000  0.165307  0.439190\n",
      "x2  0.165307  1.000000  0.438703\n",
      "x3  0.439190  0.438703  1.000000\n"
     ]
    }
   ],
   "source": [
    "df_corr = df.corr()\n",
    "print(df_corr)\n",
    "df_corr_abs = df_corr.abs()\n",
    "print(df_corr_abs)"
   ]
  },
  {
   "cell_type": "markdown",
   "metadata": {},
   "source": [
    "[unstack 解釋](https://www.itread01.com/content/1544523853.html)"
   ]
  },
  {
   "cell_type": "code",
   "execution_count": 28,
   "metadata": {},
   "outputs": [
    {
     "name": "stdout",
     "output_type": "stream",
     "text": [
      "x1  x1    1.000000\n",
      "    x2    0.165307\n",
      "    x3    0.439190\n",
      "x2  x1    0.165307\n",
      "    x2    1.000000\n",
      "    x3    0.438703\n",
      "x3  x1    0.439190\n",
      "    x2    0.438703\n",
      "    x3    1.000000\n",
      "dtype: float64\n",
      "x3  x3    1.000000\n",
      "x2  x2    1.000000\n",
      "x1  x1    1.000000\n",
      "x3  x1    0.439190\n",
      "x1  x3    0.439190\n",
      "x3  x2    0.438703\n",
      "x2  x3    0.438703\n",
      "    x1    0.165307\n",
      "x1  x2    0.165307\n",
      "dtype: float64\n"
     ]
    }
   ],
   "source": [
    "s = df_corr_abs.unstack() \n",
    "print(s)\n",
    "so = s.sort_values(ascending = False)\n",
    "print(so)"
   ]
  },
  {
   "cell_type": "code",
   "execution_count": 29,
   "metadata": {},
   "outputs": [
    {
     "name": "stdout",
     "output_type": "stream",
     "text": [
      "x1  x3    0.439190\n",
      "x3  x2    0.438703\n",
      "x2  x3    0.438703\n",
      "    x1    0.165307\n",
      "x1  x2    0.165307\n",
      "dtype: float64\n",
      "('x1', 'x3')\n"
     ]
    }
   ],
   "source": [
    "so = so[df.shape[1]+1:] # 去掉corr=1 (因為排序後，corr = 1的總共有欄位數個，故保留從第欄位數+1個)\n",
    "print(so)\n",
    "max_pair = so.idxmax()    # idxmax 找出最大值的位置\n",
    "print(max_pair)"
   ]
  }
 ],
 "metadata": {
  "kernelspec": {
   "display_name": "Python 3",
   "language": "python",
   "name": "python3"
  },
  "language_info": {
   "codemirror_mode": {
    "name": "ipython",
    "version": 3
   },
   "file_extension": ".py",
   "mimetype": "text/x-python",
   "name": "python",
   "nbconvert_exporter": "python",
   "pygments_lexer": "ipython3",
   "version": "3.6.5"
  }
 },
 "nbformat": 4,
 "nbformat_minor": 2
}
